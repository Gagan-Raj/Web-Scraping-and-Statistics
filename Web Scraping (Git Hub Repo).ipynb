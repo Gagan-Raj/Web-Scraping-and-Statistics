{
 "cells": [
  {
   "cell_type": "markdown",
   "id": "515999b9",
   "metadata": {},
   "source": [
    "# Topic for Webscrapping : Git Hub Topics & Repo\n",
    "\n",
    "### Project Outline\n",
    "- \"url: https://github.com/topics \"\n",
    "- We will get each topic name and for each topic, we will get topic title, topic URL, topic description\n",
    "- For each topic, we will get top 15 repo from topic page\n",
    "- For each Repo, we will get Rep name, username, stars(popularity) and repo URL\n",
    "- For each topic, we will create a new CSV file"
   ]
  },
  {
   "cell_type": "code",
   "execution_count": 2,
   "id": "c248de5a",
   "metadata": {},
   "outputs": [],
   "source": [
    "!pip install requests --quiet"
   ]
  },
  {
   "cell_type": "code",
   "execution_count": 5,
   "id": "0e8217fb",
   "metadata": {},
   "outputs": [],
   "source": [
    "import bs4\n",
    "import requests"
   ]
  },
  {
   "cell_type": "code",
   "execution_count": 6,
   "id": "ced91caa",
   "metadata": {},
   "outputs": [],
   "source": [
    "url = \"https://github.com/topics\"\n",
    "req = requests.get(url)"
   ]
  },
  {
   "cell_type": "code",
   "execution_count": 7,
   "id": "e11654fc",
   "metadata": {},
   "outputs": [
    {
     "data": {
      "text/plain": [
       "200"
      ]
     },
     "execution_count": 7,
     "metadata": {},
     "output_type": "execute_result"
    }
   ],
   "source": [
    "req.status_code"
   ]
  },
  {
   "cell_type": "code",
   "execution_count": 8,
   "id": "1bbf71c2",
   "metadata": {},
   "outputs": [
    {
     "data": {
      "text/plain": [
       "152948"
      ]
     },
     "execution_count": 8,
     "metadata": {},
     "output_type": "execute_result"
    }
   ],
   "source": [
    "len(req.text)"
   ]
  },
  {
   "cell_type": "code",
   "execution_count": 9,
   "id": "6c4756dc",
   "metadata": {},
   "outputs": [],
   "source": [
    "from bs4 import BeautifulSoup"
   ]
  },
  {
   "cell_type": "code",
   "execution_count": 10,
   "id": "3b08af07",
   "metadata": {},
   "outputs": [],
   "source": [
    "page_con = req.text"
   ]
  },
  {
   "cell_type": "code",
   "execution_count": 11,
   "id": "9ff31072",
   "metadata": {},
   "outputs": [],
   "source": [
    "doc = BeautifulSoup(page_con, 'html.parser')"
   ]
  },
  {
   "cell_type": "code",
   "execution_count": 14,
   "id": "37f82d01",
   "metadata": {},
   "outputs": [],
   "source": [
    "sel_class = 'f3 lh-condensed mb-0 mt-1 Link--primary'\n",
    "\n",
    "topic_title_tags = doc.find_all('p', class_ = sel_class)"
   ]
  },
  {
   "cell_type": "code",
   "execution_count": 16,
   "id": "c2e78756",
   "metadata": {},
   "outputs": [
    {
     "data": {
      "text/plain": [
       "[<p class=\"f3 lh-condensed mb-0 mt-1 Link--primary\">3D</p>,\n",
       " <p class=\"f3 lh-condensed mb-0 mt-1 Link--primary\">Ajax</p>,\n",
       " <p class=\"f3 lh-condensed mb-0 mt-1 Link--primary\">Algorithm</p>,\n",
       " <p class=\"f3 lh-condensed mb-0 mt-1 Link--primary\">Amp</p>,\n",
       " <p class=\"f3 lh-condensed mb-0 mt-1 Link--primary\">Android</p>]"
      ]
     },
     "execution_count": 16,
     "metadata": {},
     "output_type": "execute_result"
    }
   ],
   "source": [
    "topic_title_tags[:5]"
   ]
  },
  {
   "cell_type": "code",
   "execution_count": 17,
   "id": "faefa241",
   "metadata": {},
   "outputs": [],
   "source": [
    "des_class = 'f5 color-fg-muted mb-0 mt-1'\n",
    "topic_desc_tags = doc.find_all('p', class_ = des_class)"
   ]
  },
  {
   "cell_type": "code",
   "execution_count": 18,
   "id": "c2e7c60d",
   "metadata": {},
   "outputs": [
    {
     "data": {
      "text/plain": [
       "30"
      ]
     },
     "execution_count": 18,
     "metadata": {},
     "output_type": "execute_result"
    }
   ],
   "source": [
    "len(topic_desc_tags)"
   ]
  },
  {
   "cell_type": "code",
   "execution_count": 19,
   "id": "cb82db9a",
   "metadata": {},
   "outputs": [
    {
     "data": {
      "text/plain": [
       "[<p class=\"f5 color-fg-muted mb-0 mt-1\">\n",
       "           3D refers to the use of three-dimensional graphics, modeling, and animation in various industries.\n",
       "         </p>,\n",
       " <p class=\"f5 color-fg-muted mb-0 mt-1\">\n",
       "           Ajax is a technique for creating interactive web applications.\n",
       "         </p>,\n",
       " <p class=\"f5 color-fg-muted mb-0 mt-1\">\n",
       "           Algorithms are self-contained sequences that carry out a variety of tasks.\n",
       "         </p>,\n",
       " <p class=\"f5 color-fg-muted mb-0 mt-1\">\n",
       "           Amp is a non-blocking concurrency library for PHP.\n",
       "         </p>,\n",
       " <p class=\"f5 color-fg-muted mb-0 mt-1\">\n",
       "           Android is an operating system built by Google designed for mobile devices.\n",
       "         </p>]"
      ]
     },
     "execution_count": 19,
     "metadata": {},
     "output_type": "execute_result"
    }
   ],
   "source": [
    "topic_desc_tags[:5]"
   ]
  },
  {
   "cell_type": "code",
   "execution_count": 24,
   "id": "85b117db",
   "metadata": {},
   "outputs": [],
   "source": [
    "link_class ='no-underline flex-1 d-flex flex-column'\n",
    "topic_link_tags = doc.find_all('a', class_ = link_class)"
   ]
  },
  {
   "cell_type": "code",
   "execution_count": 28,
   "id": "334ee4f8",
   "metadata": {},
   "outputs": [],
   "source": [
    "topic_link_tags0 = topic_link_tags[0]['href']"
   ]
  },
  {
   "cell_type": "code",
   "execution_count": 30,
   "id": "ee4c3e4a",
   "metadata": {},
   "outputs": [
    {
     "data": {
      "text/plain": [
       "'/topics/3d'"
      ]
     },
     "execution_count": 30,
     "metadata": {},
     "output_type": "execute_result"
    }
   ],
   "source": [
    "topic_link_tags0"
   ]
  },
  {
   "cell_type": "code",
   "execution_count": 31,
   "id": "6bd6d506",
   "metadata": {},
   "outputs": [
    {
     "name": "stdout",
     "output_type": "stream",
     "text": [
      "['3D', 'Ajax', 'Algorithm', 'Amp', 'Android', 'Angular', 'Ansible', 'API', 'Arduino', 'ASP.NET', 'Atom', 'Awesome Lists', 'Amazon Web Services', 'Azure', 'Babel', 'Bash', 'Bitcoin', 'Bootstrap', 'Bot', 'C', 'Chrome', 'Chrome extension', 'Command line interface', 'Clojure', 'Code quality', 'Code review', 'Compiler', 'Continuous integration', 'COVID-19', 'C++']\n"
     ]
    }
   ],
   "source": [
    "topic_titles = []\n",
    "\n",
    "for tag in topic_title_tags:\n",
    "    topic_titles.append(tag.text)\n",
    "    \n",
    "print(topic_titles)"
   ]
  },
  {
   "cell_type": "code",
   "execution_count": 38,
   "id": "de40a573",
   "metadata": {},
   "outputs": [
    {
     "data": {
      "text/plain": [
       "['3D refers to the use of three-dimensional graphics, modeling, and animation in various industries.',\n",
       " 'Ajax is a technique for creating interactive web applications.',\n",
       " 'Algorithms are self-contained sequences that carry out a variety of tasks.',\n",
       " 'Amp is a non-blocking concurrency library for PHP.',\n",
       " 'Android is an operating system built by Google designed for mobile devices.']"
      ]
     },
     "execution_count": 38,
     "metadata": {},
     "output_type": "execute_result"
    }
   ],
   "source": [
    "topic_descriptions = []\n",
    "\n",
    "#using for loop, to go through every item\n",
    "for tag in topic_desc_tags:\n",
    "    topic_descriptions.append(tag.text.strip()) #strip function removes space and prints only text\n",
    "    \n",
    "topic_descriptions[:5]"
   ]
  },
  {
   "cell_type": "code",
   "execution_count": 39,
   "id": "02783e74",
   "metadata": {},
   "outputs": [
    {
     "data": {
      "text/plain": [
       "['https://www.github.com/topics/3d',\n",
       " 'https://www.github.com/topics/ajax',\n",
       " 'https://www.github.com/topics/algorithm',\n",
       " 'https://www.github.com/topics/amphp',\n",
       " 'https://www.github.com/topics/android']"
      ]
     },
     "execution_count": 39,
     "metadata": {},
     "output_type": "execute_result"
    }
   ],
   "source": [
    "topic_links = []\n",
    "base_link = 'https://www.github.com'\n",
    "\n",
    "for tag in topic_link_tags:\n",
    "    topic_links.append(base_link + tag['href'])\n",
    "    \n",
    "topic_links[:5]"
   ]
  },
  {
   "cell_type": "code",
   "execution_count": 40,
   "id": "b8532991",
   "metadata": {},
   "outputs": [],
   "source": [
    "import pandas as pd"
   ]
  },
  {
   "cell_type": "code",
   "execution_count": 43,
   "id": "d7ea6e06",
   "metadata": {},
   "outputs": [
    {
     "data": {
      "text/html": [
       "<div>\n",
       "<style scoped>\n",
       "    .dataframe tbody tr th:only-of-type {\n",
       "        vertical-align: middle;\n",
       "    }\n",
       "\n",
       "    .dataframe tbody tr th {\n",
       "        vertical-align: top;\n",
       "    }\n",
       "\n",
       "    .dataframe thead th {\n",
       "        text-align: right;\n",
       "    }\n",
       "</style>\n",
       "<table border=\"1\" class=\"dataframe\">\n",
       "  <thead>\n",
       "    <tr style=\"text-align: right;\">\n",
       "      <th></th>\n",
       "      <th>title</th>\n",
       "      <th>description</th>\n",
       "      <th>url</th>\n",
       "    </tr>\n",
       "  </thead>\n",
       "  <tbody>\n",
       "    <tr>\n",
       "      <th>0</th>\n",
       "      <td>3D</td>\n",
       "      <td>3D refers to the use of three-dimensional grap...</td>\n",
       "      <td>https://www.github.com/topics/3d</td>\n",
       "    </tr>\n",
       "    <tr>\n",
       "      <th>1</th>\n",
       "      <td>Ajax</td>\n",
       "      <td>Ajax is a technique for creating interactive w...</td>\n",
       "      <td>https://www.github.com/topics/ajax</td>\n",
       "    </tr>\n",
       "    <tr>\n",
       "      <th>2</th>\n",
       "      <td>Algorithm</td>\n",
       "      <td>Algorithms are self-contained sequences that c...</td>\n",
       "      <td>https://www.github.com/topics/algorithm</td>\n",
       "    </tr>\n",
       "    <tr>\n",
       "      <th>3</th>\n",
       "      <td>Amp</td>\n",
       "      <td>Amp is a non-blocking concurrency library for ...</td>\n",
       "      <td>https://www.github.com/topics/amphp</td>\n",
       "    </tr>\n",
       "    <tr>\n",
       "      <th>4</th>\n",
       "      <td>Android</td>\n",
       "      <td>Android is an operating system built by Google...</td>\n",
       "      <td>https://www.github.com/topics/android</td>\n",
       "    </tr>\n",
       "    <tr>\n",
       "      <th>5</th>\n",
       "      <td>Angular</td>\n",
       "      <td>Angular is an open source web application plat...</td>\n",
       "      <td>https://www.github.com/topics/angular</td>\n",
       "    </tr>\n",
       "    <tr>\n",
       "      <th>6</th>\n",
       "      <td>Ansible</td>\n",
       "      <td>Ansible is a simple and powerful automation en...</td>\n",
       "      <td>https://www.github.com/topics/ansible</td>\n",
       "    </tr>\n",
       "    <tr>\n",
       "      <th>7</th>\n",
       "      <td>API</td>\n",
       "      <td>An API (Application Programming Interface) is ...</td>\n",
       "      <td>https://www.github.com/topics/api</td>\n",
       "    </tr>\n",
       "    <tr>\n",
       "      <th>8</th>\n",
       "      <td>Arduino</td>\n",
       "      <td>Arduino is an open source platform for buildin...</td>\n",
       "      <td>https://www.github.com/topics/arduino</td>\n",
       "    </tr>\n",
       "    <tr>\n",
       "      <th>9</th>\n",
       "      <td>ASP.NET</td>\n",
       "      <td>ASP.NET is a web framework for building modern...</td>\n",
       "      <td>https://www.github.com/topics/aspnet</td>\n",
       "    </tr>\n",
       "    <tr>\n",
       "      <th>10</th>\n",
       "      <td>Atom</td>\n",
       "      <td>Atom is a open source text editor built with w...</td>\n",
       "      <td>https://www.github.com/topics/atom</td>\n",
       "    </tr>\n",
       "    <tr>\n",
       "      <th>11</th>\n",
       "      <td>Awesome Lists</td>\n",
       "      <td>An awesome list is a list of awesome things cu...</td>\n",
       "      <td>https://www.github.com/topics/awesome</td>\n",
       "    </tr>\n",
       "    <tr>\n",
       "      <th>12</th>\n",
       "      <td>Amazon Web Services</td>\n",
       "      <td>Amazon Web Services provides on-demand cloud c...</td>\n",
       "      <td>https://www.github.com/topics/aws</td>\n",
       "    </tr>\n",
       "    <tr>\n",
       "      <th>13</th>\n",
       "      <td>Azure</td>\n",
       "      <td>Azure is a cloud computing service created by ...</td>\n",
       "      <td>https://www.github.com/topics/azure</td>\n",
       "    </tr>\n",
       "    <tr>\n",
       "      <th>14</th>\n",
       "      <td>Babel</td>\n",
       "      <td>Babel is a compiler for writing next generatio...</td>\n",
       "      <td>https://www.github.com/topics/babel</td>\n",
       "    </tr>\n",
       "    <tr>\n",
       "      <th>15</th>\n",
       "      <td>Bash</td>\n",
       "      <td>Bash is a shell and command language interpret...</td>\n",
       "      <td>https://www.github.com/topics/bash</td>\n",
       "    </tr>\n",
       "    <tr>\n",
       "      <th>16</th>\n",
       "      <td>Bitcoin</td>\n",
       "      <td>Bitcoin is a cryptocurrency developed by Satos...</td>\n",
       "      <td>https://www.github.com/topics/bitcoin</td>\n",
       "    </tr>\n",
       "    <tr>\n",
       "      <th>17</th>\n",
       "      <td>Bootstrap</td>\n",
       "      <td>Bootstrap is an HTML, CSS, and JavaScript fram...</td>\n",
       "      <td>https://www.github.com/topics/bootstrap</td>\n",
       "    </tr>\n",
       "    <tr>\n",
       "      <th>18</th>\n",
       "      <td>Bot</td>\n",
       "      <td>A bot is an application that runs automated ta...</td>\n",
       "      <td>https://www.github.com/topics/bot</td>\n",
       "    </tr>\n",
       "    <tr>\n",
       "      <th>19</th>\n",
       "      <td>C</td>\n",
       "      <td>C is a general purpose programming language th...</td>\n",
       "      <td>https://www.github.com/topics/c</td>\n",
       "    </tr>\n",
       "    <tr>\n",
       "      <th>20</th>\n",
       "      <td>Chrome</td>\n",
       "      <td>Chrome is a web browser from the tech company ...</td>\n",
       "      <td>https://www.github.com/topics/chrome</td>\n",
       "    </tr>\n",
       "    <tr>\n",
       "      <th>21</th>\n",
       "      <td>Chrome extension</td>\n",
       "      <td>Chrome extensions enable users to customize th...</td>\n",
       "      <td>https://www.github.com/topics/chrome-extension</td>\n",
       "    </tr>\n",
       "    <tr>\n",
       "      <th>22</th>\n",
       "      <td>Command line interface</td>\n",
       "      <td>A CLI, or command-line interface, is a console...</td>\n",
       "      <td>https://www.github.com/topics/cli</td>\n",
       "    </tr>\n",
       "    <tr>\n",
       "      <th>23</th>\n",
       "      <td>Clojure</td>\n",
       "      <td>Clojure is a dynamic, general-purpose programm...</td>\n",
       "      <td>https://www.github.com/topics/clojure</td>\n",
       "    </tr>\n",
       "    <tr>\n",
       "      <th>24</th>\n",
       "      <td>Code quality</td>\n",
       "      <td>Automate your code review with style, quality,...</td>\n",
       "      <td>https://www.github.com/topics/code-quality</td>\n",
       "    </tr>\n",
       "    <tr>\n",
       "      <th>25</th>\n",
       "      <td>Code review</td>\n",
       "      <td>Ensure your code meets quality standards and s...</td>\n",
       "      <td>https://www.github.com/topics/code-review</td>\n",
       "    </tr>\n",
       "    <tr>\n",
       "      <th>26</th>\n",
       "      <td>Compiler</td>\n",
       "      <td>Compilers are software that translate higher-l...</td>\n",
       "      <td>https://www.github.com/topics/compiler</td>\n",
       "    </tr>\n",
       "    <tr>\n",
       "      <th>27</th>\n",
       "      <td>Continuous integration</td>\n",
       "      <td>Automatically build and test your code as you ...</td>\n",
       "      <td>https://www.github.com/topics/continuous-integ...</td>\n",
       "    </tr>\n",
       "    <tr>\n",
       "      <th>28</th>\n",
       "      <td>COVID-19</td>\n",
       "      <td>The coronavirus disease 2019 (COVID-19) is an ...</td>\n",
       "      <td>https://www.github.com/topics/covid-19</td>\n",
       "    </tr>\n",
       "    <tr>\n",
       "      <th>29</th>\n",
       "      <td>C++</td>\n",
       "      <td>C++ is a general purpose and object-oriented p...</td>\n",
       "      <td>https://www.github.com/topics/cpp</td>\n",
       "    </tr>\n",
       "  </tbody>\n",
       "</table>\n",
       "</div>"
      ],
      "text/plain": [
       "                     title                                        description  \\\n",
       "0                       3D  3D refers to the use of three-dimensional grap...   \n",
       "1                     Ajax  Ajax is a technique for creating interactive w...   \n",
       "2                Algorithm  Algorithms are self-contained sequences that c...   \n",
       "3                      Amp  Amp is a non-blocking concurrency library for ...   \n",
       "4                  Android  Android is an operating system built by Google...   \n",
       "5                  Angular  Angular is an open source web application plat...   \n",
       "6                  Ansible  Ansible is a simple and powerful automation en...   \n",
       "7                      API  An API (Application Programming Interface) is ...   \n",
       "8                  Arduino  Arduino is an open source platform for buildin...   \n",
       "9                  ASP.NET  ASP.NET is a web framework for building modern...   \n",
       "10                    Atom  Atom is a open source text editor built with w...   \n",
       "11           Awesome Lists  An awesome list is a list of awesome things cu...   \n",
       "12     Amazon Web Services  Amazon Web Services provides on-demand cloud c...   \n",
       "13                   Azure  Azure is a cloud computing service created by ...   \n",
       "14                   Babel  Babel is a compiler for writing next generatio...   \n",
       "15                    Bash  Bash is a shell and command language interpret...   \n",
       "16                 Bitcoin  Bitcoin is a cryptocurrency developed by Satos...   \n",
       "17               Bootstrap  Bootstrap is an HTML, CSS, and JavaScript fram...   \n",
       "18                     Bot  A bot is an application that runs automated ta...   \n",
       "19                       C  C is a general purpose programming language th...   \n",
       "20                  Chrome  Chrome is a web browser from the tech company ...   \n",
       "21        Chrome extension  Chrome extensions enable users to customize th...   \n",
       "22  Command line interface  A CLI, or command-line interface, is a console...   \n",
       "23                 Clojure  Clojure is a dynamic, general-purpose programm...   \n",
       "24            Code quality  Automate your code review with style, quality,...   \n",
       "25             Code review  Ensure your code meets quality standards and s...   \n",
       "26                Compiler  Compilers are software that translate higher-l...   \n",
       "27  Continuous integration  Automatically build and test your code as you ...   \n",
       "28                COVID-19  The coronavirus disease 2019 (COVID-19) is an ...   \n",
       "29                     C++  C++ is a general purpose and object-oriented p...   \n",
       "\n",
       "                                                  url  \n",
       "0                    https://www.github.com/topics/3d  \n",
       "1                  https://www.github.com/topics/ajax  \n",
       "2             https://www.github.com/topics/algorithm  \n",
       "3                 https://www.github.com/topics/amphp  \n",
       "4               https://www.github.com/topics/android  \n",
       "5               https://www.github.com/topics/angular  \n",
       "6               https://www.github.com/topics/ansible  \n",
       "7                   https://www.github.com/topics/api  \n",
       "8               https://www.github.com/topics/arduino  \n",
       "9                https://www.github.com/topics/aspnet  \n",
       "10                 https://www.github.com/topics/atom  \n",
       "11              https://www.github.com/topics/awesome  \n",
       "12                  https://www.github.com/topics/aws  \n",
       "13                https://www.github.com/topics/azure  \n",
       "14                https://www.github.com/topics/babel  \n",
       "15                 https://www.github.com/topics/bash  \n",
       "16              https://www.github.com/topics/bitcoin  \n",
       "17            https://www.github.com/topics/bootstrap  \n",
       "18                  https://www.github.com/topics/bot  \n",
       "19                    https://www.github.com/topics/c  \n",
       "20               https://www.github.com/topics/chrome  \n",
       "21     https://www.github.com/topics/chrome-extension  \n",
       "22                  https://www.github.com/topics/cli  \n",
       "23              https://www.github.com/topics/clojure  \n",
       "24         https://www.github.com/topics/code-quality  \n",
       "25          https://www.github.com/topics/code-review  \n",
       "26             https://www.github.com/topics/compiler  \n",
       "27  https://www.github.com/topics/continuous-integ...  \n",
       "28             https://www.github.com/topics/covid-19  \n",
       "29                  https://www.github.com/topics/cpp  "
      ]
     },
     "execution_count": 43,
     "metadata": {},
     "output_type": "execute_result"
    }
   ],
   "source": [
    "#converting all extracted data to \n",
    "data = {\n",
    "    'title' : topic_titles, \n",
    "    'description' : topic_descriptions,\n",
    "    'url' : topic_links\n",
    "}\n",
    "\n",
    "topics_df = pd.DataFrame(data)\n",
    "\n",
    "topics_df"
   ]
  },
  {
   "cell_type": "code",
   "execution_count": 45,
   "id": "e0d50e9d",
   "metadata": {},
   "outputs": [],
   "source": [
    "#writing data frame to csv file\n",
    "\n",
    "topics_df.to_csv('Topics_GitHub_webscraping.csv', index=None)"
   ]
  },
  {
   "cell_type": "code",
   "execution_count": 47,
   "id": "32980741",
   "metadata": {},
   "outputs": [
    {
     "data": {
      "text/plain": [
       "'https://www.github.com/topics/3d'"
      ]
     },
     "execution_count": 47,
     "metadata": {},
     "output_type": "execute_result"
    }
   ],
   "source": [
    "topic_page_url = topic_links[0]\n",
    "topic_page_url"
   ]
  },
  {
   "cell_type": "code",
   "execution_count": 49,
   "id": "e20c5e85",
   "metadata": {},
   "outputs": [],
   "source": [
    "response = requests.get(topic_page_url)"
   ]
  },
  {
   "cell_type": "code",
   "execution_count": 50,
   "id": "fb2cff5a",
   "metadata": {},
   "outputs": [
    {
     "data": {
      "text/plain": [
       "200"
      ]
     },
     "execution_count": 50,
     "metadata": {},
     "output_type": "execute_result"
    }
   ],
   "source": [
    "response.status_code"
   ]
  },
  {
   "cell_type": "code",
   "execution_count": 53,
   "id": "ff53b5f5",
   "metadata": {},
   "outputs": [
    {
     "data": {
      "text/plain": [
       "456427"
      ]
     },
     "execution_count": 53,
     "metadata": {},
     "output_type": "execute_result"
    }
   ],
   "source": [
    "len(response.text)"
   ]
  },
  {
   "cell_type": "code",
   "execution_count": 54,
   "id": "a88159c0",
   "metadata": {},
   "outputs": [],
   "source": [
    "topic1_doc = BeautifulSoup(response.text, 'html.parser')"
   ]
  },
  {
   "cell_type": "code",
   "execution_count": 55,
   "id": "f893055d",
   "metadata": {},
   "outputs": [],
   "source": [
    "#getting inside each topic and into repos\n",
    "\n",
    "repo_class = 'f3 color-fg-muted text-normal lh-condensed'\n",
    "\n",
    "repo_tags = topic1_doc.find_all('h3', class_ = repo_class)"
   ]
  },
  {
   "cell_type": "code",
   "execution_count": 56,
   "id": "812ec2c9",
   "metadata": {},
   "outputs": [
    {
     "data": {
      "text/plain": [
       "20"
      ]
     },
     "execution_count": 56,
     "metadata": {},
     "output_type": "execute_result"
    }
   ],
   "source": [
    "len(repo_tags)"
   ]
  },
  {
   "cell_type": "code",
   "execution_count": 58,
   "id": "30390649",
   "metadata": {},
   "outputs": [
    {
     "data": {
      "text/plain": [
       "<h3 class=\"f3 color-fg-muted text-normal lh-condensed\">\n",
       "<a data-hydro-click='{\"event_type\":\"explore.click\",\"payload\":{\"click_context\":\"REPOSITORY_CARD\",\"click_target\":\"OWNER\",\"click_visual_representation\":\"REPOSITORY_OWNER_HEADING\",\"actor_id\":null,\"record_id\":97088,\"originating_url\":\"https://github.com/topics/3d\",\"user_id\":null}}' data-hydro-click-hmac=\"4bdbc49d3c05ae7f70b531fbce709a384200b0768554e0172950286a8db30940\" data-turbo=\"false\" data-view-component=\"true\" href=\"/mrdoob\">\n",
       "            mrdoob\n",
       "</a>          /\n",
       "          <a class=\"text-bold wb-break-word\" data-hydro-click='{\"event_type\":\"explore.click\",\"payload\":{\"click_context\":\"REPOSITORY_CARD\",\"click_target\":\"REPOSITORY\",\"click_visual_representation\":\"REPOSITORY_NAME_HEADING\",\"actor_id\":null,\"record_id\":576201,\"originating_url\":\"https://github.com/topics/3d\",\"user_id\":null}}' data-hydro-click-hmac=\"517d3d5cb9d89752156923904a4238816bc9b51ab7772f3e3644ce897d8dd4e5\" data-turbo=\"false\" data-view-component=\"true\" href=\"/mrdoob/three.js\">\n",
       "            three.js\n",
       "</a> </h3>"
      ]
     },
     "execution_count": 58,
     "metadata": {},
     "output_type": "execute_result"
    }
   ],
   "source": [
    "repo_tags[0]"
   ]
  },
  {
   "cell_type": "code",
   "execution_count": 62,
   "id": "1242cfef",
   "metadata": {},
   "outputs": [],
   "source": [
    "#under h3 class, we have username and repo name separately\n",
    "a_tags = repo_tags[0].find_all('a')"
   ]
  },
  {
   "cell_type": "code",
   "execution_count": 63,
   "id": "8239e6bd",
   "metadata": {},
   "outputs": [
    {
     "data": {
      "text/plain": [
       "'mrdoob'"
      ]
     },
     "execution_count": 63,
     "metadata": {},
     "output_type": "execute_result"
    }
   ],
   "source": [
    "#we have to use strip function to remove spaces we get when we use .text\n",
    "a_tags[0].text.strip()"
   ]
  },
  {
   "cell_type": "code",
   "execution_count": 64,
   "id": "360081d3",
   "metadata": {},
   "outputs": [
    {
     "data": {
      "text/plain": [
       "'three.js'"
      ]
     },
     "execution_count": 64,
     "metadata": {},
     "output_type": "execute_result"
    }
   ],
   "source": [
    "a_tags[1].text.strip()"
   ]
  },
  {
   "cell_type": "code",
   "execution_count": 81,
   "id": "8ff7147e",
   "metadata": {},
   "outputs": [
    {
     "name": "stdout",
     "output_type": "stream",
     "text": [
      "https://www.github.com/mrdoob/three.js\n"
     ]
    }
   ],
   "source": [
    "#repo url\n",
    "base_url = 'https://www.github.com'\n",
    "repo_url = base_url + a_tags[1]['href']\n",
    "\n",
    "print(repo_url)"
   ]
  },
  {
   "cell_type": "code",
   "execution_count": 68,
   "id": "4cde62c3",
   "metadata": {},
   "outputs": [],
   "source": [
    "#finding stars(popularity)\n",
    "star_class = 'Counter js-social-count'\n",
    "star_tags = topic1_doc.find_all('span', class_ = star_class)"
   ]
  },
  {
   "cell_type": "code",
   "execution_count": 69,
   "id": "591cf836",
   "metadata": {},
   "outputs": [
    {
     "data": {
      "text/plain": [
       "20"
      ]
     },
     "execution_count": 69,
     "metadata": {},
     "output_type": "execute_result"
    }
   ],
   "source": [
    "len(star_tags)"
   ]
  },
  {
   "cell_type": "code",
   "execution_count": 72,
   "id": "06fe600f",
   "metadata": {},
   "outputs": [
    {
     "data": {
      "text/plain": [
       "'19.5k'"
      ]
     },
     "execution_count": 72,
     "metadata": {},
     "output_type": "execute_result"
    }
   ],
   "source": [
    "#here the output is in string format, but we need in integer for Data Analysis. So, lets convert it\n",
    "star_tags[3].text"
   ]
  },
  {
   "cell_type": "code",
   "execution_count": 77,
   "id": "1a427f1b",
   "metadata": {},
   "outputs": [],
   "source": [
    "#we will create a function to convert all star counts to integer\n",
    "\n",
    "def repo_star_count(star_str):\n",
    "    if star_str[-1] == 'k':\n",
    "        return int(float(star_str[:-1]) * 1000)\n",
    "    return int(star_str)"
   ]
  },
  {
   "cell_type": "code",
   "execution_count": 78,
   "id": "f108b4d0",
   "metadata": {},
   "outputs": [
    {
     "data": {
      "text/plain": [
       "89600"
      ]
     },
     "execution_count": 78,
     "metadata": {},
     "output_type": "execute_result"
    }
   ],
   "source": [
    "repo_star_count(star_tags[0].text)"
   ]
  },
  {
   "cell_type": "code",
   "execution_count": 84,
   "id": "bb46a084",
   "metadata": {},
   "outputs": [],
   "source": [
    "# now we need to create a function to get the output of all required details as mentioned in project outline\n",
    "\n",
    "def get_repo_details(h3_tag, star_tag):\n",
    "    a_tags = h3_tag.find_all('a')\n",
    "    username = a_tags[0].text.strip()\n",
    "    repo_name = a_tags[1].text.strip()\n",
    "    repo_url = base_url + a_tags[1]['href']\n",
    "    stars = repo_star_count(star_tag.text)\n",
    "    return username, repo_name, repo_url, stars"
   ]
  },
  {
   "cell_type": "code",
   "execution_count": 85,
   "id": "f40b4265",
   "metadata": {},
   "outputs": [
    {
     "data": {
      "text/plain": [
       "('mrdoob', 'three.js', 'https://www.github.com/mrdoob/three.js', 89600)"
      ]
     },
     "execution_count": 85,
     "metadata": {},
     "output_type": "execute_result"
    }
   ],
   "source": [
    "get_repo_details(repo_tags[0], star_tags[0])"
   ]
  },
  {
   "cell_type": "code",
   "execution_count": 86,
   "id": "90f1c2ee",
   "metadata": {},
   "outputs": [],
   "source": [
    "#now we have to get repo details for all and store them\n",
    "\n",
    "repo_dict = {\n",
    "    'username' : [],\n",
    "    'repo_name' : [],\n",
    "    'repo_url' : [],\n",
    "    'stars' : []\n",
    "}\n",
    "\n",
    "for i in range(len(repo_tags)):\n",
    "    repo_info = get_repo_details(repo_tags[i], star_tags[i])\n",
    "    repo_dict['username'].append(repo_info[0])\n",
    "    repo_dict['repo_name'].append(repo_info[1])\n",
    "    repo_dict['repo_url'].append(repo_info[2])\n",
    "    repo_dict['stars'].append(repo_info[3])\n",
    "\n",
    "    "
   ]
  },
  {
   "cell_type": "code",
   "execution_count": 88,
   "id": "c5917d3f",
   "metadata": {},
   "outputs": [],
   "source": [
    "repo_dict_df = pd.DataFrame(repo_dict)"
   ]
  },
  {
   "cell_type": "code",
   "execution_count": 89,
   "id": "ef4b50b0",
   "metadata": {},
   "outputs": [
    {
     "data": {
      "text/html": [
       "<div>\n",
       "<style scoped>\n",
       "    .dataframe tbody tr th:only-of-type {\n",
       "        vertical-align: middle;\n",
       "    }\n",
       "\n",
       "    .dataframe tbody tr th {\n",
       "        vertical-align: top;\n",
       "    }\n",
       "\n",
       "    .dataframe thead th {\n",
       "        text-align: right;\n",
       "    }\n",
       "</style>\n",
       "<table border=\"1\" class=\"dataframe\">\n",
       "  <thead>\n",
       "    <tr style=\"text-align: right;\">\n",
       "      <th></th>\n",
       "      <th>username</th>\n",
       "      <th>repo_name</th>\n",
       "      <th>repo_url</th>\n",
       "      <th>stars</th>\n",
       "    </tr>\n",
       "  </thead>\n",
       "  <tbody>\n",
       "    <tr>\n",
       "      <th>0</th>\n",
       "      <td>mrdoob</td>\n",
       "      <td>three.js</td>\n",
       "      <td>https://www.github.com/mrdoob/three.js</td>\n",
       "      <td>89600</td>\n",
       "    </tr>\n",
       "    <tr>\n",
       "      <th>1</th>\n",
       "      <td>pmndrs</td>\n",
       "      <td>react-three-fiber</td>\n",
       "      <td>https://www.github.com/pmndrs/react-three-fiber</td>\n",
       "      <td>21700</td>\n",
       "    </tr>\n",
       "    <tr>\n",
       "      <th>2</th>\n",
       "      <td>libgdx</td>\n",
       "      <td>libgdx</td>\n",
       "      <td>https://www.github.com/libgdx/libgdx</td>\n",
       "      <td>21200</td>\n",
       "    </tr>\n",
       "    <tr>\n",
       "      <th>3</th>\n",
       "      <td>BabylonJS</td>\n",
       "      <td>Babylon.js</td>\n",
       "      <td>https://www.github.com/BabylonJS/Babylon.js</td>\n",
       "      <td>19500</td>\n",
       "    </tr>\n",
       "    <tr>\n",
       "      <th>4</th>\n",
       "      <td>ssloy</td>\n",
       "      <td>tinyrenderer</td>\n",
       "      <td>https://www.github.com/ssloy/tinyrenderer</td>\n",
       "      <td>16200</td>\n",
       "    </tr>\n",
       "    <tr>\n",
       "      <th>5</th>\n",
       "      <td>aframevr</td>\n",
       "      <td>aframe</td>\n",
       "      <td>https://www.github.com/aframevr/aframe</td>\n",
       "      <td>15100</td>\n",
       "    </tr>\n",
       "    <tr>\n",
       "      <th>6</th>\n",
       "      <td>lettier</td>\n",
       "      <td>3d-game-shaders-for-beginners</td>\n",
       "      <td>https://www.github.com/lettier/3d-game-shaders...</td>\n",
       "      <td>14700</td>\n",
       "    </tr>\n",
       "    <tr>\n",
       "      <th>7</th>\n",
       "      <td>FreeCAD</td>\n",
       "      <td>FreeCAD</td>\n",
       "      <td>https://www.github.com/FreeCAD/FreeCAD</td>\n",
       "      <td>13400</td>\n",
       "    </tr>\n",
       "    <tr>\n",
       "      <th>8</th>\n",
       "      <td>CesiumGS</td>\n",
       "      <td>cesium</td>\n",
       "      <td>https://www.github.com/CesiumGS/cesium</td>\n",
       "      <td>10000</td>\n",
       "    </tr>\n",
       "    <tr>\n",
       "      <th>9</th>\n",
       "      <td>metafizzy</td>\n",
       "      <td>zdog</td>\n",
       "      <td>https://www.github.com/metafizzy/zdog</td>\n",
       "      <td>9600</td>\n",
       "    </tr>\n",
       "    <tr>\n",
       "      <th>10</th>\n",
       "      <td>timzhang642</td>\n",
       "      <td>3D-Machine-Learning</td>\n",
       "      <td>https://www.github.com/timzhang642/3D-Machine-...</td>\n",
       "      <td>8700</td>\n",
       "    </tr>\n",
       "    <tr>\n",
       "      <th>11</th>\n",
       "      <td>isl-org</td>\n",
       "      <td>Open3D</td>\n",
       "      <td>https://www.github.com/isl-org/Open3D</td>\n",
       "      <td>8200</td>\n",
       "    </tr>\n",
       "    <tr>\n",
       "      <th>12</th>\n",
       "      <td>blender</td>\n",
       "      <td>blender</td>\n",
       "      <td>https://www.github.com/blender/blender</td>\n",
       "      <td>7800</td>\n",
       "    </tr>\n",
       "    <tr>\n",
       "      <th>13</th>\n",
       "      <td>a1studmuffin</td>\n",
       "      <td>SpaceshipGenerator</td>\n",
       "      <td>https://www.github.com/a1studmuffin/SpaceshipG...</td>\n",
       "      <td>7400</td>\n",
       "    </tr>\n",
       "    <tr>\n",
       "      <th>14</th>\n",
       "      <td>domlysz</td>\n",
       "      <td>BlenderGIS</td>\n",
       "      <td>https://www.github.com/domlysz/BlenderGIS</td>\n",
       "      <td>6100</td>\n",
       "    </tr>\n",
       "    <tr>\n",
       "      <th>15</th>\n",
       "      <td>FyroxEngine</td>\n",
       "      <td>Fyrox</td>\n",
       "      <td>https://www.github.com/FyroxEngine/Fyrox</td>\n",
       "      <td>6000</td>\n",
       "    </tr>\n",
       "    <tr>\n",
       "      <th>16</th>\n",
       "      <td>openscad</td>\n",
       "      <td>openscad</td>\n",
       "      <td>https://www.github.com/openscad/openscad</td>\n",
       "      <td>5400</td>\n",
       "    </tr>\n",
       "    <tr>\n",
       "      <th>17</th>\n",
       "      <td>google</td>\n",
       "      <td>model-viewer</td>\n",
       "      <td>https://www.github.com/google/model-viewer</td>\n",
       "      <td>5400</td>\n",
       "    </tr>\n",
       "    <tr>\n",
       "      <th>18</th>\n",
       "      <td>spritejs</td>\n",
       "      <td>spritejs</td>\n",
       "      <td>https://www.github.com/spritejs/spritejs</td>\n",
       "      <td>5100</td>\n",
       "    </tr>\n",
       "    <tr>\n",
       "      <th>19</th>\n",
       "      <td>jagenjo</td>\n",
       "      <td>webglstudio.js</td>\n",
       "      <td>https://www.github.com/jagenjo/webglstudio.js</td>\n",
       "      <td>4900</td>\n",
       "    </tr>\n",
       "  </tbody>\n",
       "</table>\n",
       "</div>"
      ],
      "text/plain": [
       "        username                      repo_name  \\\n",
       "0         mrdoob                       three.js   \n",
       "1         pmndrs              react-three-fiber   \n",
       "2         libgdx                         libgdx   \n",
       "3      BabylonJS                     Babylon.js   \n",
       "4          ssloy                   tinyrenderer   \n",
       "5       aframevr                         aframe   \n",
       "6        lettier  3d-game-shaders-for-beginners   \n",
       "7        FreeCAD                        FreeCAD   \n",
       "8       CesiumGS                         cesium   \n",
       "9      metafizzy                           zdog   \n",
       "10   timzhang642            3D-Machine-Learning   \n",
       "11       isl-org                         Open3D   \n",
       "12       blender                        blender   \n",
       "13  a1studmuffin             SpaceshipGenerator   \n",
       "14       domlysz                     BlenderGIS   \n",
       "15   FyroxEngine                          Fyrox   \n",
       "16      openscad                       openscad   \n",
       "17        google                   model-viewer   \n",
       "18      spritejs                       spritejs   \n",
       "19       jagenjo                 webglstudio.js   \n",
       "\n",
       "                                             repo_url  stars  \n",
       "0              https://www.github.com/mrdoob/three.js  89600  \n",
       "1     https://www.github.com/pmndrs/react-three-fiber  21700  \n",
       "2                https://www.github.com/libgdx/libgdx  21200  \n",
       "3         https://www.github.com/BabylonJS/Babylon.js  19500  \n",
       "4           https://www.github.com/ssloy/tinyrenderer  16200  \n",
       "5              https://www.github.com/aframevr/aframe  15100  \n",
       "6   https://www.github.com/lettier/3d-game-shaders...  14700  \n",
       "7              https://www.github.com/FreeCAD/FreeCAD  13400  \n",
       "8              https://www.github.com/CesiumGS/cesium  10000  \n",
       "9               https://www.github.com/metafizzy/zdog   9600  \n",
       "10  https://www.github.com/timzhang642/3D-Machine-...   8700  \n",
       "11              https://www.github.com/isl-org/Open3D   8200  \n",
       "12             https://www.github.com/blender/blender   7800  \n",
       "13  https://www.github.com/a1studmuffin/SpaceshipG...   7400  \n",
       "14          https://www.github.com/domlysz/BlenderGIS   6100  \n",
       "15           https://www.github.com/FyroxEngine/Fyrox   6000  \n",
       "16           https://www.github.com/openscad/openscad   5400  \n",
       "17         https://www.github.com/google/model-viewer   5400  \n",
       "18           https://www.github.com/spritejs/spritejs   5100  \n",
       "19      https://www.github.com/jagenjo/webglstudio.js   4900  "
      ]
     },
     "execution_count": 89,
     "metadata": {},
     "output_type": "execute_result"
    }
   ],
   "source": [
    "repo_dict_df"
   ]
  },
  {
   "cell_type": "markdown",
   "id": "dbd28029",
   "metadata": {},
   "source": [
    "### We did till now for 3D topic, we need to do it for all, for this purpose we need to create a function"
   ]
  },
  {
   "cell_type": "code",
   "execution_count": 119,
   "id": "89dc205e",
   "metadata": {},
   "outputs": [],
   "source": [
    "def get_topic_page(topic1_url):\n",
    "    \n",
    "    #load the data based on URL\n",
    "    response = requests.get(topic1_url)\n",
    "    \n",
    "    #Check whether data loaded correctly and if not raise an error\n",
    "    if response.status_code != 200:\n",
    "        raise Exception('Failed to Load Data for {}'.format(topic_url))\n",
    "    \n",
    "    #using Beautiful Soup, we load the HTML data\n",
    "    topic1_doc = BeautifulSoup(response.text, 'html.parser')\n",
    "    \n",
    "    return topic1_doc\n",
    "\n",
    "#copying all data from above to be in one cell\n",
    "def get_repo_details(h3_tag, star_tag):\n",
    "    a_tags = h3_tag.find_all('a')\n",
    "    username = a_tags[0].text.strip()\n",
    "    repo_name = a_tags[1].text.strip()\n",
    "    repo_url = base_url + a_tags[1]['href']\n",
    "    stars = repo_star_count(star_tag.text)\n",
    "    return username, repo_name, repo_url, stars\n",
    "\n",
    "def get_topic_repos(topic_doc):\n",
    "    \n",
    "    #get repo tags based on class h3, it has repo name, username. repo url                    \n",
    "    repo_class = 'f3 color-fg-muted text-normal lh-condensed'\n",
    "    repo_tags = topic_doc.find_all('h3', class_ = repo_class)\n",
    "                        \n",
    "    #get star data based on its class\n",
    "    star_class = 'Counter js-social-count'\n",
    "    star_tags = topic_doc.find_all('span', class_ = star_class)\n",
    "                        \n",
    "    repo_dict = {\n",
    "    'username' : [],\n",
    "    'repo_name' : [],\n",
    "    'repo_url' : [],\n",
    "    'stars' : []\n",
    "    }\n",
    "\n",
    "    for i in range(len(repo_tags)):\n",
    "        repo_info = get_repo_details(repo_tags[i], star_tags[i])\n",
    "        repo_dict['username'].append(repo_info[0])\n",
    "        repo_dict['repo_name'].append(repo_info[1])\n",
    "        repo_dict['repo_url'].append(repo_info[2])\n",
    "        repo_dict['stars'].append(repo_info[3])\n",
    "                        \n",
    "    return pd.DataFrame(repo_dict)\n",
    "\n",
    "def scrap_topic(topic_url, path):\n",
    "    if os.path.exists(path):\n",
    "        print(\"The file {} already exists. Skipping...\".format(path))\n",
    "        return\n",
    "    topic2_df = get_topic_repos(get_topic_page(topic_url))\n",
    "    topic2_df.to_csv(path, index=None)"
   ]
  },
  {
   "cell_type": "code",
   "execution_count": 120,
   "id": "7e4844cb",
   "metadata": {},
   "outputs": [],
   "source": [
    "url2 = topic_links[2]"
   ]
  },
  {
   "cell_type": "code",
   "execution_count": 121,
   "id": "3a0a6c1a",
   "metadata": {},
   "outputs": [
    {
     "data": {
      "text/plain": [
       "'https://www.github.com/topics/algorithm'"
      ]
     },
     "execution_count": 121,
     "metadata": {},
     "output_type": "execute_result"
    }
   ],
   "source": [
    "url2"
   ]
  },
  {
   "cell_type": "code",
   "execution_count": 122,
   "id": "97b19604",
   "metadata": {},
   "outputs": [],
   "source": [
    "topic2_doc = get_topic_page(url2)"
   ]
  },
  {
   "cell_type": "code",
   "execution_count": 123,
   "id": "0c4cc649",
   "metadata": {},
   "outputs": [],
   "source": [
    "topic2_repo = get_topic_repos(topic2_doc)"
   ]
  },
  {
   "cell_type": "code",
   "execution_count": 124,
   "id": "f582eccb",
   "metadata": {},
   "outputs": [
    {
     "data": {
      "text/html": [
       "<div>\n",
       "<style scoped>\n",
       "    .dataframe tbody tr th:only-of-type {\n",
       "        vertical-align: middle;\n",
       "    }\n",
       "\n",
       "    .dataframe tbody tr th {\n",
       "        vertical-align: top;\n",
       "    }\n",
       "\n",
       "    .dataframe thead th {\n",
       "        text-align: right;\n",
       "    }\n",
       "</style>\n",
       "<table border=\"1\" class=\"dataframe\">\n",
       "  <thead>\n",
       "    <tr style=\"text-align: right;\">\n",
       "      <th></th>\n",
       "      <th>username</th>\n",
       "      <th>repo_name</th>\n",
       "      <th>repo_url</th>\n",
       "      <th>stars</th>\n",
       "    </tr>\n",
       "  </thead>\n",
       "  <tbody>\n",
       "    <tr>\n",
       "      <th>0</th>\n",
       "      <td>jwasham</td>\n",
       "      <td>coding-interview-university</td>\n",
       "      <td>https://www.github.com/jwasham/coding-intervie...</td>\n",
       "      <td>251000</td>\n",
       "    </tr>\n",
       "    <tr>\n",
       "      <th>1</th>\n",
       "      <td>trekhleb</td>\n",
       "      <td>javascript-algorithms</td>\n",
       "      <td>https://www.github.com/trekhleb/javascript-alg...</td>\n",
       "      <td>164000</td>\n",
       "    </tr>\n",
       "    <tr>\n",
       "      <th>2</th>\n",
       "      <td>CyC2018</td>\n",
       "      <td>CS-Notes</td>\n",
       "      <td>https://www.github.com/CyC2018/CS-Notes</td>\n",
       "      <td>162000</td>\n",
       "    </tr>\n",
       "    <tr>\n",
       "      <th>3</th>\n",
       "      <td>TheAlgorithms</td>\n",
       "      <td>Python</td>\n",
       "      <td>https://www.github.com/TheAlgorithms/Python</td>\n",
       "      <td>155000</td>\n",
       "    </tr>\n",
       "    <tr>\n",
       "      <th>4</th>\n",
       "      <td>yangshun</td>\n",
       "      <td>tech-interview-handbook</td>\n",
       "      <td>https://www.github.com/yangshun/tech-interview...</td>\n",
       "      <td>87200</td>\n",
       "    </tr>\n",
       "    <tr>\n",
       "      <th>5</th>\n",
       "      <td>kdn251</td>\n",
       "      <td>interviews</td>\n",
       "      <td>https://www.github.com/kdn251/interviews</td>\n",
       "      <td>59300</td>\n",
       "    </tr>\n",
       "    <tr>\n",
       "      <th>6</th>\n",
       "      <td>azl397985856</td>\n",
       "      <td>leetcode</td>\n",
       "      <td>https://www.github.com/azl397985856/leetcode</td>\n",
       "      <td>50700</td>\n",
       "    </tr>\n",
       "    <tr>\n",
       "      <th>7</th>\n",
       "      <td>TheAlgorithms</td>\n",
       "      <td>Java</td>\n",
       "      <td>https://www.github.com/TheAlgorithms/Java</td>\n",
       "      <td>50600</td>\n",
       "    </tr>\n",
       "    <tr>\n",
       "      <th>8</th>\n",
       "      <td>algorithm-visualizer</td>\n",
       "      <td>algorithm-visualizer</td>\n",
       "      <td>https://www.github.com/algorithm-visualizer/al...</td>\n",
       "      <td>42400</td>\n",
       "    </tr>\n",
       "    <tr>\n",
       "      <th>9</th>\n",
       "      <td>youngyangyang04</td>\n",
       "      <td>leetcode-master</td>\n",
       "      <td>https://www.github.com/youngyangyang04/leetcod...</td>\n",
       "      <td>36200</td>\n",
       "    </tr>\n",
       "    <tr>\n",
       "      <th>10</th>\n",
       "      <td>halfrost</td>\n",
       "      <td>LeetCode-Go</td>\n",
       "      <td>https://www.github.com/halfrost/LeetCode-Go</td>\n",
       "      <td>29200</td>\n",
       "    </tr>\n",
       "    <tr>\n",
       "      <th>11</th>\n",
       "      <td>huihut</td>\n",
       "      <td>interview</td>\n",
       "      <td>https://www.github.com/huihut/interview</td>\n",
       "      <td>27900</td>\n",
       "    </tr>\n",
       "    <tr>\n",
       "      <th>12</th>\n",
       "      <td>donnemartin</td>\n",
       "      <td>interactive-coding-challenges</td>\n",
       "      <td>https://www.github.com/donnemartin/interactive...</td>\n",
       "      <td>27000</td>\n",
       "    </tr>\n",
       "    <tr>\n",
       "      <th>13</th>\n",
       "      <td>crossoverJie</td>\n",
       "      <td>JCSprout</td>\n",
       "      <td>https://www.github.com/crossoverJie/JCSprout</td>\n",
       "      <td>27000</td>\n",
       "    </tr>\n",
       "    <tr>\n",
       "      <th>14</th>\n",
       "      <td>TheAlgorithms</td>\n",
       "      <td>JavaScript</td>\n",
       "      <td>https://www.github.com/TheAlgorithms/JavaScript</td>\n",
       "      <td>25600</td>\n",
       "    </tr>\n",
       "    <tr>\n",
       "      <th>15</th>\n",
       "      <td>TheAlgorithms</td>\n",
       "      <td>C-Plus-Plus</td>\n",
       "      <td>https://www.github.com/TheAlgorithms/C-Plus-Plus</td>\n",
       "      <td>23500</td>\n",
       "    </tr>\n",
       "    <tr>\n",
       "      <th>16</th>\n",
       "      <td>keon</td>\n",
       "      <td>algorithms</td>\n",
       "      <td>https://www.github.com/keon/algorithms</td>\n",
       "      <td>22200</td>\n",
       "    </tr>\n",
       "    <tr>\n",
       "      <th>17</th>\n",
       "      <td>trekhleb</td>\n",
       "      <td>homemade-machine-learning</td>\n",
       "      <td>https://www.github.com/trekhleb/homemade-machi...</td>\n",
       "      <td>21000</td>\n",
       "    </tr>\n",
       "    <tr>\n",
       "      <th>18</th>\n",
       "      <td>mxgmn</td>\n",
       "      <td>WaveFunctionCollapse</td>\n",
       "      <td>https://www.github.com/mxgmn/WaveFunctionCollapse</td>\n",
       "      <td>20800</td>\n",
       "    </tr>\n",
       "    <tr>\n",
       "      <th>19</th>\n",
       "      <td>AtsushiSakai</td>\n",
       "      <td>PythonRobotics</td>\n",
       "      <td>https://www.github.com/AtsushiSakai/PythonRobo...</td>\n",
       "      <td>17700</td>\n",
       "    </tr>\n",
       "  </tbody>\n",
       "</table>\n",
       "</div>"
      ],
      "text/plain": [
       "                username                      repo_name  \\\n",
       "0                jwasham    coding-interview-university   \n",
       "1               trekhleb          javascript-algorithms   \n",
       "2                CyC2018                       CS-Notes   \n",
       "3          TheAlgorithms                         Python   \n",
       "4               yangshun        tech-interview-handbook   \n",
       "5                 kdn251                     interviews   \n",
       "6           azl397985856                       leetcode   \n",
       "7          TheAlgorithms                           Java   \n",
       "8   algorithm-visualizer           algorithm-visualizer   \n",
       "9        youngyangyang04                leetcode-master   \n",
       "10              halfrost                    LeetCode-Go   \n",
       "11                huihut                      interview   \n",
       "12           donnemartin  interactive-coding-challenges   \n",
       "13          crossoverJie                       JCSprout   \n",
       "14         TheAlgorithms                     JavaScript   \n",
       "15         TheAlgorithms                    C-Plus-Plus   \n",
       "16                  keon                     algorithms   \n",
       "17              trekhleb      homemade-machine-learning   \n",
       "18                 mxgmn           WaveFunctionCollapse   \n",
       "19          AtsushiSakai                 PythonRobotics   \n",
       "\n",
       "                                             repo_url   stars  \n",
       "0   https://www.github.com/jwasham/coding-intervie...  251000  \n",
       "1   https://www.github.com/trekhleb/javascript-alg...  164000  \n",
       "2             https://www.github.com/CyC2018/CS-Notes  162000  \n",
       "3         https://www.github.com/TheAlgorithms/Python  155000  \n",
       "4   https://www.github.com/yangshun/tech-interview...   87200  \n",
       "5            https://www.github.com/kdn251/interviews   59300  \n",
       "6        https://www.github.com/azl397985856/leetcode   50700  \n",
       "7           https://www.github.com/TheAlgorithms/Java   50600  \n",
       "8   https://www.github.com/algorithm-visualizer/al...   42400  \n",
       "9   https://www.github.com/youngyangyang04/leetcod...   36200  \n",
       "10        https://www.github.com/halfrost/LeetCode-Go   29200  \n",
       "11            https://www.github.com/huihut/interview   27900  \n",
       "12  https://www.github.com/donnemartin/interactive...   27000  \n",
       "13       https://www.github.com/crossoverJie/JCSprout   27000  \n",
       "14    https://www.github.com/TheAlgorithms/JavaScript   25600  \n",
       "15   https://www.github.com/TheAlgorithms/C-Plus-Plus   23500  \n",
       "16             https://www.github.com/keon/algorithms   22200  \n",
       "17  https://www.github.com/trekhleb/homemade-machi...   21000  \n",
       "18  https://www.github.com/mxgmn/WaveFunctionCollapse   20800  \n",
       "19  https://www.github.com/AtsushiSakai/PythonRobo...   17700  "
      ]
     },
     "execution_count": 124,
     "metadata": {},
     "output_type": "execute_result"
    }
   ],
   "source": [
    "topic2_repo"
   ]
  },
  {
   "cell_type": "code",
   "execution_count": null,
   "id": "7b38e141",
   "metadata": {},
   "outputs": [],
   "source": []
  }
 ],
 "metadata": {
  "kernelspec": {
   "display_name": "Python 3 (ipykernel)",
   "language": "python",
   "name": "python3"
  },
  "language_info": {
   "codemirror_mode": {
    "name": "ipython",
    "version": 3
   },
   "file_extension": ".py",
   "mimetype": "text/x-python",
   "name": "python",
   "nbconvert_exporter": "python",
   "pygments_lexer": "ipython3",
   "version": "3.9.13"
  }
 },
 "nbformat": 4,
 "nbformat_minor": 5
}
