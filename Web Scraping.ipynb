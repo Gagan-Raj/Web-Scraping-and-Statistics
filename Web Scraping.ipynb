{
 "cells": [
  {
   "cell_type": "markdown",
   "id": "8cc071ad",
   "metadata": {},
   "source": [
    "# Project Outline\n",
    "\n",
    "- We have to scrape data from \n",
    "- url = https://www.flipkart.com/search?q=phone&otracker=search&otracker1=search&marketplace=FLIPKART&as-show=on&as=off\n",
    "- We need to have name, price, ratings, reviews"
   ]
  },
  {
   "cell_type": "code",
   "execution_count": 2,
   "id": "37cebe9a",
   "metadata": {},
   "outputs": [],
   "source": [
    "# on the course of this project, we will use these required libraries\n",
    "import pandas as pd\n",
    "import matplotlib\n",
    "from matplotlib import pyplot as plt\n",
    "import seaborn as sns\n",
    "import requests\n",
    "from bs4 import BeautifulSoup"
   ]
  },
  {
   "cell_type": "code",
   "execution_count": 4,
   "id": "9e668f98",
   "metadata": {},
   "outputs": [
    {
     "data": {
      "text/plain": [
       "200"
      ]
     },
     "execution_count": 4,
     "metadata": {},
     "output_type": "execute_result"
    }
   ],
   "source": [
    "#let us import URL and request data\n",
    "url = 'https://www.flipkart.com/search?q=phone&otracker=search&otracker1=search&marketplace=FLIPKART&as-show=on&as=off'\n",
    "\n",
    "page = requests.get(url)\n",
    "#status code is necessary to check if its succesfull\n",
    "page.status_code"
   ]
  },
  {
   "cell_type": "code",
   "execution_count": 30,
   "id": "473250cd",
   "metadata": {},
   "outputs": [],
   "source": [
    "#\n",
    "main_class = '_3pLy-c row'\n",
    "main_data = soup.find_all('div', class_=main_class)"
   ]
  },
  {
   "cell_type": "code",
   "execution_count": 31,
   "id": "fef80e42",
   "metadata": {},
   "outputs": [
    {
     "data": {
      "text/plain": [
       "24"
      ]
     },
     "execution_count": 31,
     "metadata": {},
     "output_type": "execute_result"
    }
   ],
   "source": [
    "len(main_data)"
   ]
  },
  {
   "cell_type": "code",
   "execution_count": 37,
   "id": "1e574086",
   "metadata": {},
   "outputs": [],
   "source": [
    "data1 = main_data[0]"
   ]
  },
  {
   "cell_type": "code",
   "execution_count": 41,
   "id": "64c56b93",
   "metadata": {},
   "outputs": [
    {
     "data": {
      "text/plain": [
       "<div class=\"_3pLy-c row\"><div class=\"col col-7-12\"><div class=\"_4rR01T\">REDMI 10 (Pacific Blue, 64 GB)</div><div class=\"gUuXy-\"><span class=\"_1lRcqv\" id=\"productRating_LSTMOBGC9GYCHQZK9GWAF1RPC_MOBGC9GYCHQZK9GW_\"><div class=\"_3LWZlK\">4.3<img class=\"_1wB99o\" src=\"data:image/svg+xml;base64,PHN2ZyB4bWxucz0iaHR0cDovL3d3dy53My5vcmcvMjAwMC9zdmciIHdpZHRoPSIxMyIgaGVpZ2h0PSIxMiI+PHBhdGggZmlsbD0iI0ZGRiIgZD0iTTYuNSA5LjQzOWwtMy42NzQgMi4yMy45NC00LjI2LTMuMjEtMi44ODMgNC4yNTQtLjQwNEw2LjUuMTEybDEuNjkgNC4wMSA0LjI1NC40MDQtMy4yMSAyLjg4Mi45NCA0LjI2eiIvPjwvc3ZnPg==\"/></div></span><span class=\"_2_R_DZ\"><span><span>1,92,505 Ratings </span><span class=\"_13vcmD\">&amp;</span><span> 12,418 Reviews</span></span></span></div><div class=\"fMghEO\"><ul class=\"_1xgFaf\"><li class=\"rgWa7D\">4 GB RAM | 64 GB ROM | Expandable Upto 1 TB</li><li class=\"rgWa7D\">17.02 cm (6.7 inch) HD+ Display</li><li class=\"rgWa7D\">50MP + 2MP | 5MP Front Camera</li><li class=\"rgWa7D\">6000 mAh Lithium Polymer Battery</li><li class=\"rgWa7D\">Qualcomm Snapdragon 680 Processor</li><li class=\"rgWa7D\">1 Year Warranty for Phone and 6 Months Warranty for In-Box Accessories</li></ul></div></div><div class=\"col col-5-12 nlI3QM\"><div class=\"_3tbKJL\"><div class=\"_25b18c\"><div class=\"_30jeq3 _1_WHN1\">₹9,299</div><div class=\"_3I9_wc _27UcVY\">₹<!-- -->14,999</div><div class=\"_3Ay6Sb\"><span>38% off</span></div></div><div class=\"_3tcB5a p8ucoS\"><div><div class=\"_2Tpdn3\" style=\"color:#000000;font-size:12px;font-weight:400\">Free delivery</div></div></div></div><div class=\"_13J9qT\"><img height=\"21\" src=\"//static-assets-web.flixcart.com/fk-p-linchpin-web/fk-cp-zion/img/fa_62673a.png\"/></div><div class=\"_2ZdXDB\"><div class=\"_3xFhiH\"><div class=\"_2Tpdn3 _18hQoS\" style=\"color:#000000;font-size:14px;font-style:normal;font-weight:400\">Upto </div><div class=\"_2Tpdn3 _18hQoS\" style=\"color:#000000;font-size:14px;font-style:normal;font-weight:700\">₹8,650</div><div class=\"_2Tpdn3 _18hQoS\" style=\"color:#000000;font-size:14px;font-style:normal;font-weight:400\"> Off on Exchange</div></div></div><div class=\"_2ZdXDB\"><div class=\"_3xFhiH\"><div class=\"_2Tpdn3 _18hQoS\" style=\"color:#000000;font-size:12px;font-weight:400\">No Cost EMI from ₹1,550/month</div></div></div></div></div>"
      ]
     },
     "execution_count": 41,
     "metadata": {},
     "output_type": "execute_result"
    }
   ],
   "source": [
    "data1"
   ]
  },
  {
   "cell_type": "code",
   "execution_count": 38,
   "id": "3684c97a",
   "metadata": {},
   "outputs": [],
   "source": [
    "#we will find the data for 1st element, based on their class and using find. We use strip function as well\n",
    "title = data1.find('div', class_='_4rR01T').text.strip()\n",
    "discounted_price = data1.find('div', class_='_30jeq3 _1_WHN1').text.strip()\n",
    "rating = data1.find('span', class_='_2_R_DZ').text.strip()\n",
    "star = data1.find('div', class_='_3LWZlK').text.strip()\n",
    "price_before_discount = data1.find('div', class_='_3I9_wc _27UcVY').text.strip()"
   ]
  },
  {
   "cell_type": "code",
   "execution_count": 40,
   "id": "fb63514c",
   "metadata": {},
   "outputs": [
    {
     "name": "stdout",
     "output_type": "stream",
     "text": [
      "REDMI 10 (Pacific Blue, 64 GB) ₹9,299 1,92,505 Ratings & 12,418 Reviews 4.3 ₹14,999\n"
     ]
    }
   ],
   "source": [
    "print(title,discounted_price,rating,star,price_before_discount)"
   ]
  },
  {
   "cell_type": "code",
   "execution_count": 64,
   "id": "1f09f877",
   "metadata": {},
   "outputs": [],
   "source": [
    "#create an empty list to store data at end\n",
    "phone_data = []\n",
    "\n",
    "for data in main_data:\n",
    "    #create a local empty dictionary\n",
    "    temp_dict={}\n",
    "    temp_dict['title'] = data.find('div', class_='_4rR01T').text.strip()\n",
    "    \n",
    "    #we need to remove ‘₹’ symbol from the price column we used text. \n",
    "    #Replace command to remove that symbol from column.\n",
    "    temp_dict['discounted_price'] = data.find('div', class_='_30jeq3 _1_WHN1').text.replace('₹','').strip()\n",
    "    \n",
    "    rating_element = data.find('span', class_='_2_R_DZ')\n",
    "    if rating_element is not None:\n",
    "        temp_dict['rating'] = rating_element.text.strip()\n",
    "    else:\n",
    "        temp_dict['rating'] = None\n",
    "        \n",
    "    star_element = data.find('div', class_='_3LWZlK')\n",
    "    if star_element is not None:\n",
    "        temp_dict['stars'] = star_element.text.strip()\n",
    "    else:\n",
    "        temp_dict['stars'] = None\n",
    "        \n",
    "    temp_dict['price_before_discount'] = data.find('div', class_='_3I9_wc _27UcVY').text.replace('₹', '').strip()\n",
    "    \n",
    "   #appending all data to the list created\n",
    "    phone_data.append(temp_dict)"
   ]
  },
  {
   "cell_type": "markdown",
   "id": "19f6a983",
   "metadata": {},
   "source": [
    "# Data Cleaning"
   ]
  },
  {
   "cell_type": "code",
   "execution_count": 65,
   "id": "7c1d62e4",
   "metadata": {},
   "outputs": [],
   "source": [
    "phone_df = pd.DataFrame(phone_data)"
   ]
  },
  {
   "cell_type": "code",
   "execution_count": 66,
   "id": "79e26373",
   "metadata": {},
   "outputs": [],
   "source": [
    "phone_df.dropna(inplace=True)"
   ]
  },
  {
   "cell_type": "code",
   "execution_count": 67,
   "id": "920c178a",
   "metadata": {},
   "outputs": [
    {
     "name": "stdout",
     "output_type": "stream",
     "text": [
      "                                           title discounted_price stars  \\\n",
      "0                 REDMI 10 (Pacific Blue, 64 GB)            9,299   4.3   \n",
      "1              REDMI 10 (Caribbean Green, 64 GB)            9,299   4.3   \n",
      "3               REDMI 10 (Midnight Black, 64 GB)            9,299   4.3   \n",
      "4         Infinix HOT 20 Play (Luna Blue, 64 GB)            8,199   4.4   \n",
      "5      Infinix HOT 20 Play (Racing Black, 64 GB)            8,199   4.4   \n",
      "6    Infinix HOT 20 Play (Fantasy Purple, 64 GB)            8,199   4.4   \n",
      "7      Infinix HOT 20 Play (Aurora Green, 64 GB)            8,199   4.4   \n",
      "8      SAMSUNG Galaxy F23 5G (Aqua Blue, 128 GB)           14,999   4.3   \n",
      "9               REDMI 10 (Sunrise Orange, 64 GB)            9,299   4.3   \n",
      "10  SAMSUNG Galaxy F23 5G (Copper Blush, 128 GB)           14,999   4.3   \n",
      "11                  POCO C50 (Royal Blue, 32 GB)            5,749   4.4   \n",
      "12               POCO C50 (Country Green, 32 GB)            5,749   4.4   \n",
      "13           MOTOROLA g52 (Charcoal Grey, 64 GB)           10,999   4.2   \n",
      "14              MOTOROLA g31 (Baby Blue, 128 GB)           10,999   4.1   \n",
      "15         MOTOROLA g52 (Metallic White, 128 GB)           12,999   4.2   \n",
      "16          MOTOROLA g52 (Charcoal Grey, 128 GB)           12,999   4.2   \n",
      "17             Infinix Hot 12 (7° Purple, 64 GB)            8,499   4.3   \n",
      "18      Infinix Hot 12 (Exploratory Blue, 64 GB)            8,499   4.3   \n",
      "19          MOTOROLA g31 (Meteorite Grey, 64 GB)            9,499   4.2   \n",
      "20            MOTOROLA G32 (Mineral Gray, 64 GB)           10,499   4.2   \n",
      "21       Infinix Smart 6 HD (Origin Blue, 32 GB)            5,799   4.4   \n",
      "22          Infinix Smart 6 HD (Aqua Sky, 32 GB)            5,799   4.4   \n",
      "23       Infinix Smart 6 HD (Force Black, 32 GB)            5,799   4.4   \n",
      "\n",
      "   price_before_discount  ratings  reviews  \n",
      "0                 14,999   192505    12418  \n",
      "1                 14,999   192505    12418  \n",
      "3                 14,999   192505    12418  \n",
      "4                 11,999    10306      605  \n",
      "5                 11,999    10306      605  \n",
      "6                 11,999    10306      605  \n",
      "7                 11,999    10306      605  \n",
      "8                 23,999   162121    12893  \n",
      "9                 14,999   192505    12418  \n",
      "10                23,999   162121    12893  \n",
      "11                 8,999     3007      148  \n",
      "12                 8,999     3007      148  \n",
      "13                17,999    10969     1312  \n",
      "14                16,999    13808     1433  \n",
      "15                19,999    29083     3401  \n",
      "16                19,999    29083     3401  \n",
      "17                12,999    19757     1402  \n",
      "18                12,999    19757     1402  \n",
      "19                13,999    34936     3918  \n",
      "20                16,999    29354     2820  \n",
      "21                 8,999    24340     1365  \n",
      "22                 8,999    24340     1365  \n",
      "23                 8,999    24340     1365  \n"
     ]
    }
   ],
   "source": [
    "# Split 'rating' column based on '&' character and create separate columns for each part of the rating\n",
    "phone_df[['ratings', 'reviews']] = phone_df['rating'].str.split('&', expand=True).apply(lambda x: x.str.strip())\n",
    "\n",
    "# Remove non-numeric characters (including commas) from the rating columns\n",
    "phone_df['ratings'] = phone_df['ratings'].apply(lambda x: int(''.join(filter(str.isdigit, x))))\n",
    "phone_df['reviews'] = phone_df['reviews'].apply(lambda x: int(''.join(filter(str.isdigit, x))))\n",
    "\n",
    "# Drop the original 'rating' column\n",
    "phone_df.drop('rating', axis=1, inplace=True)\n",
    "\n",
    "# Print the updated DataFrame\n",
    "print(phone_df)\n"
   ]
  },
  {
   "cell_type": "code",
   "execution_count": 68,
   "id": "ded24d13",
   "metadata": {},
   "outputs": [
    {
     "data": {
      "text/html": [
       "<div>\n",
       "<style scoped>\n",
       "    .dataframe tbody tr th:only-of-type {\n",
       "        vertical-align: middle;\n",
       "    }\n",
       "\n",
       "    .dataframe tbody tr th {\n",
       "        vertical-align: top;\n",
       "    }\n",
       "\n",
       "    .dataframe thead th {\n",
       "        text-align: right;\n",
       "    }\n",
       "</style>\n",
       "<table border=\"1\" class=\"dataframe\">\n",
       "  <thead>\n",
       "    <tr style=\"text-align: right;\">\n",
       "      <th></th>\n",
       "      <th>title</th>\n",
       "      <th>discounted_price</th>\n",
       "      <th>stars</th>\n",
       "      <th>price_before_discount</th>\n",
       "      <th>ratings</th>\n",
       "      <th>reviews</th>\n",
       "    </tr>\n",
       "  </thead>\n",
       "  <tbody>\n",
       "    <tr>\n",
       "      <th>0</th>\n",
       "      <td>REDMI 10 (Pacific Blue, 64 GB)</td>\n",
       "      <td>9,299</td>\n",
       "      <td>4.3</td>\n",
       "      <td>14,999</td>\n",
       "      <td>192505</td>\n",
       "      <td>12418</td>\n",
       "    </tr>\n",
       "    <tr>\n",
       "      <th>1</th>\n",
       "      <td>REDMI 10 (Caribbean Green, 64 GB)</td>\n",
       "      <td>9,299</td>\n",
       "      <td>4.3</td>\n",
       "      <td>14,999</td>\n",
       "      <td>192505</td>\n",
       "      <td>12418</td>\n",
       "    </tr>\n",
       "    <tr>\n",
       "      <th>3</th>\n",
       "      <td>REDMI 10 (Midnight Black, 64 GB)</td>\n",
       "      <td>9,299</td>\n",
       "      <td>4.3</td>\n",
       "      <td>14,999</td>\n",
       "      <td>192505</td>\n",
       "      <td>12418</td>\n",
       "    </tr>\n",
       "    <tr>\n",
       "      <th>4</th>\n",
       "      <td>Infinix HOT 20 Play (Luna Blue, 64 GB)</td>\n",
       "      <td>8,199</td>\n",
       "      <td>4.4</td>\n",
       "      <td>11,999</td>\n",
       "      <td>10306</td>\n",
       "      <td>605</td>\n",
       "    </tr>\n",
       "    <tr>\n",
       "      <th>5</th>\n",
       "      <td>Infinix HOT 20 Play (Racing Black, 64 GB)</td>\n",
       "      <td>8,199</td>\n",
       "      <td>4.4</td>\n",
       "      <td>11,999</td>\n",
       "      <td>10306</td>\n",
       "      <td>605</td>\n",
       "    </tr>\n",
       "  </tbody>\n",
       "</table>\n",
       "</div>"
      ],
      "text/plain": [
       "                                       title discounted_price stars  \\\n",
       "0             REDMI 10 (Pacific Blue, 64 GB)            9,299   4.3   \n",
       "1          REDMI 10 (Caribbean Green, 64 GB)            9,299   4.3   \n",
       "3           REDMI 10 (Midnight Black, 64 GB)            9,299   4.3   \n",
       "4     Infinix HOT 20 Play (Luna Blue, 64 GB)            8,199   4.4   \n",
       "5  Infinix HOT 20 Play (Racing Black, 64 GB)            8,199   4.4   \n",
       "\n",
       "  price_before_discount  ratings  reviews  \n",
       "0                14,999   192505    12418  \n",
       "1                14,999   192505    12418  \n",
       "3                14,999   192505    12418  \n",
       "4                11,999    10306      605  \n",
       "5                11,999    10306      605  "
      ]
     },
     "execution_count": 68,
     "metadata": {},
     "output_type": "execute_result"
    }
   ],
   "source": [
    "phone_df.head()"
   ]
  },
  {
   "cell_type": "code",
   "execution_count": 71,
   "id": "8f3d4a4e",
   "metadata": {},
   "outputs": [],
   "source": [
    "#removing commas in the columns, and converting them to integers\n",
    "\n",
    "phone_df['discounted_price'] = phone_df['discounted_price'].astype(str).apply(lambda x: int(''.join(filter(str.isdigit, x))))\n",
    "phone_df['price_before_discount'] = phone_df['price_before_discount'].astype(str).apply(lambda x: int(''.join(filter(str.isdigit, x))))\n"
   ]
  },
  {
   "cell_type": "code",
   "execution_count": 75,
   "id": "2cd09acb",
   "metadata": {},
   "outputs": [],
   "source": [
    "#converting stars into float type\n",
    "phone_df['stars'] = phone_df['stars'].astype(float)"
   ]
  },
  {
   "cell_type": "code",
   "execution_count": 81,
   "id": "7ea1c375",
   "metadata": {},
   "outputs": [
    {
     "data": {
      "text/plain": [
       "title                     object\n",
       "discounted_price           int64\n",
       "stars                    float64\n",
       "price_before_discount      int64\n",
       "ratings                    int64\n",
       "reviews                    int64\n",
       "dtype: object"
      ]
     },
     "execution_count": 81,
     "metadata": {},
     "output_type": "execute_result"
    }
   ],
   "source": [
    "phone_df.dtypes"
   ]
  },
  {
   "cell_type": "code",
   "execution_count": 76,
   "id": "3f41dae5",
   "metadata": {},
   "outputs": [
    {
     "data": {
      "text/html": [
       "<div>\n",
       "<style scoped>\n",
       "    .dataframe tbody tr th:only-of-type {\n",
       "        vertical-align: middle;\n",
       "    }\n",
       "\n",
       "    .dataframe tbody tr th {\n",
       "        vertical-align: top;\n",
       "    }\n",
       "\n",
       "    .dataframe thead th {\n",
       "        text-align: right;\n",
       "    }\n",
       "</style>\n",
       "<table border=\"1\" class=\"dataframe\">\n",
       "  <thead>\n",
       "    <tr style=\"text-align: right;\">\n",
       "      <th></th>\n",
       "      <th>title</th>\n",
       "      <th>discounted_price</th>\n",
       "      <th>stars</th>\n",
       "      <th>price_before_discount</th>\n",
       "      <th>ratings</th>\n",
       "      <th>reviews</th>\n",
       "    </tr>\n",
       "  </thead>\n",
       "  <tbody>\n",
       "    <tr>\n",
       "      <th>0</th>\n",
       "      <td>REDMI 10 (Pacific Blue, 64 GB)</td>\n",
       "      <td>9299</td>\n",
       "      <td>4.3</td>\n",
       "      <td>14999</td>\n",
       "      <td>192505</td>\n",
       "      <td>12418</td>\n",
       "    </tr>\n",
       "    <tr>\n",
       "      <th>1</th>\n",
       "      <td>REDMI 10 (Caribbean Green, 64 GB)</td>\n",
       "      <td>9299</td>\n",
       "      <td>4.3</td>\n",
       "      <td>14999</td>\n",
       "      <td>192505</td>\n",
       "      <td>12418</td>\n",
       "    </tr>\n",
       "    <tr>\n",
       "      <th>3</th>\n",
       "      <td>REDMI 10 (Midnight Black, 64 GB)</td>\n",
       "      <td>9299</td>\n",
       "      <td>4.3</td>\n",
       "      <td>14999</td>\n",
       "      <td>192505</td>\n",
       "      <td>12418</td>\n",
       "    </tr>\n",
       "    <tr>\n",
       "      <th>4</th>\n",
       "      <td>Infinix HOT 20 Play (Luna Blue, 64 GB)</td>\n",
       "      <td>8199</td>\n",
       "      <td>4.4</td>\n",
       "      <td>11999</td>\n",
       "      <td>10306</td>\n",
       "      <td>605</td>\n",
       "    </tr>\n",
       "    <tr>\n",
       "      <th>5</th>\n",
       "      <td>Infinix HOT 20 Play (Racing Black, 64 GB)</td>\n",
       "      <td>8199</td>\n",
       "      <td>4.4</td>\n",
       "      <td>11999</td>\n",
       "      <td>10306</td>\n",
       "      <td>605</td>\n",
       "    </tr>\n",
       "  </tbody>\n",
       "</table>\n",
       "</div>"
      ],
      "text/plain": [
       "                                       title  discounted_price  stars  \\\n",
       "0             REDMI 10 (Pacific Blue, 64 GB)              9299    4.3   \n",
       "1          REDMI 10 (Caribbean Green, 64 GB)              9299    4.3   \n",
       "3           REDMI 10 (Midnight Black, 64 GB)              9299    4.3   \n",
       "4     Infinix HOT 20 Play (Luna Blue, 64 GB)              8199    4.4   \n",
       "5  Infinix HOT 20 Play (Racing Black, 64 GB)              8199    4.4   \n",
       "\n",
       "   price_before_discount  ratings  reviews  \n",
       "0                  14999   192505    12418  \n",
       "1                  14999   192505    12418  \n",
       "3                  14999   192505    12418  \n",
       "4                  11999    10306      605  \n",
       "5                  11999    10306      605  "
      ]
     },
     "execution_count": 76,
     "metadata": {},
     "output_type": "execute_result"
    }
   ],
   "source": [
    "phone_df.head()"
   ]
  },
  {
   "cell_type": "markdown",
   "id": "cc1e4236",
   "metadata": {},
   "source": [
    "# Data Analysis"
   ]
  },
  {
   "cell_type": "code",
   "execution_count": 78,
   "id": "f7272c53",
   "metadata": {},
   "outputs": [],
   "source": [
    "import numpy as np"
   ]
  },
  {
   "cell_type": "markdown",
   "id": "8ecf0e44",
   "metadata": {},
   "source": [
    "### finding out mobile phones which have 4.3 stars and discounted price less than 9000"
   ]
  },
  {
   "cell_type": "code",
   "execution_count": 85,
   "id": "fe87b3c0",
   "metadata": {},
   "outputs": [
    {
     "data": {
      "text/html": [
       "<div>\n",
       "<style scoped>\n",
       "    .dataframe tbody tr th:only-of-type {\n",
       "        vertical-align: middle;\n",
       "    }\n",
       "\n",
       "    .dataframe tbody tr th {\n",
       "        vertical-align: top;\n",
       "    }\n",
       "\n",
       "    .dataframe thead th {\n",
       "        text-align: right;\n",
       "    }\n",
       "</style>\n",
       "<table border=\"1\" class=\"dataframe\">\n",
       "  <thead>\n",
       "    <tr style=\"text-align: right;\">\n",
       "      <th></th>\n",
       "      <th>title</th>\n",
       "      <th>discounted_price</th>\n",
       "      <th>stars</th>\n",
       "      <th>price_before_discount</th>\n",
       "      <th>ratings</th>\n",
       "      <th>reviews</th>\n",
       "    </tr>\n",
       "  </thead>\n",
       "  <tbody>\n",
       "    <tr>\n",
       "      <th>4</th>\n",
       "      <td>Infinix HOT 20 Play (Luna Blue, 64 GB)</td>\n",
       "      <td>8199</td>\n",
       "      <td>4.4</td>\n",
       "      <td>11999</td>\n",
       "      <td>10306</td>\n",
       "      <td>605</td>\n",
       "    </tr>\n",
       "    <tr>\n",
       "      <th>5</th>\n",
       "      <td>Infinix HOT 20 Play (Racing Black, 64 GB)</td>\n",
       "      <td>8199</td>\n",
       "      <td>4.4</td>\n",
       "      <td>11999</td>\n",
       "      <td>10306</td>\n",
       "      <td>605</td>\n",
       "    </tr>\n",
       "    <tr>\n",
       "      <th>6</th>\n",
       "      <td>Infinix HOT 20 Play (Fantasy Purple, 64 GB)</td>\n",
       "      <td>8199</td>\n",
       "      <td>4.4</td>\n",
       "      <td>11999</td>\n",
       "      <td>10306</td>\n",
       "      <td>605</td>\n",
       "    </tr>\n",
       "    <tr>\n",
       "      <th>7</th>\n",
       "      <td>Infinix HOT 20 Play (Aurora Green, 64 GB)</td>\n",
       "      <td>8199</td>\n",
       "      <td>4.4</td>\n",
       "      <td>11999</td>\n",
       "      <td>10306</td>\n",
       "      <td>605</td>\n",
       "    </tr>\n",
       "    <tr>\n",
       "      <th>11</th>\n",
       "      <td>POCO C50 (Royal Blue, 32 GB)</td>\n",
       "      <td>5749</td>\n",
       "      <td>4.4</td>\n",
       "      <td>8999</td>\n",
       "      <td>3007</td>\n",
       "      <td>148</td>\n",
       "    </tr>\n",
       "    <tr>\n",
       "      <th>12</th>\n",
       "      <td>POCO C50 (Country Green, 32 GB)</td>\n",
       "      <td>5749</td>\n",
       "      <td>4.4</td>\n",
       "      <td>8999</td>\n",
       "      <td>3007</td>\n",
       "      <td>148</td>\n",
       "    </tr>\n",
       "    <tr>\n",
       "      <th>17</th>\n",
       "      <td>Infinix Hot 12 (7° Purple, 64 GB)</td>\n",
       "      <td>8499</td>\n",
       "      <td>4.3</td>\n",
       "      <td>12999</td>\n",
       "      <td>19757</td>\n",
       "      <td>1402</td>\n",
       "    </tr>\n",
       "    <tr>\n",
       "      <th>18</th>\n",
       "      <td>Infinix Hot 12 (Exploratory Blue, 64 GB)</td>\n",
       "      <td>8499</td>\n",
       "      <td>4.3</td>\n",
       "      <td>12999</td>\n",
       "      <td>19757</td>\n",
       "      <td>1402</td>\n",
       "    </tr>\n",
       "    <tr>\n",
       "      <th>21</th>\n",
       "      <td>Infinix Smart 6 HD (Origin Blue, 32 GB)</td>\n",
       "      <td>5799</td>\n",
       "      <td>4.4</td>\n",
       "      <td>8999</td>\n",
       "      <td>24340</td>\n",
       "      <td>1365</td>\n",
       "    </tr>\n",
       "    <tr>\n",
       "      <th>22</th>\n",
       "      <td>Infinix Smart 6 HD (Aqua Sky, 32 GB)</td>\n",
       "      <td>5799</td>\n",
       "      <td>4.4</td>\n",
       "      <td>8999</td>\n",
       "      <td>24340</td>\n",
       "      <td>1365</td>\n",
       "    </tr>\n",
       "    <tr>\n",
       "      <th>23</th>\n",
       "      <td>Infinix Smart 6 HD (Force Black, 32 GB)</td>\n",
       "      <td>5799</td>\n",
       "      <td>4.4</td>\n",
       "      <td>8999</td>\n",
       "      <td>24340</td>\n",
       "      <td>1365</td>\n",
       "    </tr>\n",
       "  </tbody>\n",
       "</table>\n",
       "</div>"
      ],
      "text/plain": [
       "                                          title  discounted_price  stars  \\\n",
       "4        Infinix HOT 20 Play (Luna Blue, 64 GB)              8199    4.4   \n",
       "5     Infinix HOT 20 Play (Racing Black, 64 GB)              8199    4.4   \n",
       "6   Infinix HOT 20 Play (Fantasy Purple, 64 GB)              8199    4.4   \n",
       "7     Infinix HOT 20 Play (Aurora Green, 64 GB)              8199    4.4   \n",
       "11                 POCO C50 (Royal Blue, 32 GB)              5749    4.4   \n",
       "12              POCO C50 (Country Green, 32 GB)              5749    4.4   \n",
       "17            Infinix Hot 12 (7° Purple, 64 GB)              8499    4.3   \n",
       "18     Infinix Hot 12 (Exploratory Blue, 64 GB)              8499    4.3   \n",
       "21      Infinix Smart 6 HD (Origin Blue, 32 GB)              5799    4.4   \n",
       "22         Infinix Smart 6 HD (Aqua Sky, 32 GB)              5799    4.4   \n",
       "23      Infinix Smart 6 HD (Force Black, 32 GB)              5799    4.4   \n",
       "\n",
       "    price_before_discount  ratings  reviews  \n",
       "4                   11999    10306      605  \n",
       "5                   11999    10306      605  \n",
       "6                   11999    10306      605  \n",
       "7                   11999    10306      605  \n",
       "11                   8999     3007      148  \n",
       "12                   8999     3007      148  \n",
       "17                  12999    19757     1402  \n",
       "18                  12999    19757     1402  \n",
       "21                   8999    24340     1365  \n",
       "22                   8999    24340     1365  \n",
       "23                   8999    24340     1365  "
      ]
     },
     "execution_count": 85,
     "metadata": {},
     "output_type": "execute_result"
    }
   ],
   "source": [
    "phone_df[(phone_df['stars'] >= 4.3) & (phone_df['discounted_price'] <= 9000)]\n"
   ]
  },
  {
   "cell_type": "markdown",
   "id": "4c6785a6",
   "metadata": {},
   "source": [
    "We have 11 products which are in buying range and have good star"
   ]
  },
  {
   "cell_type": "markdown",
   "id": "68842c18",
   "metadata": {},
   "source": [
    "### Data Visualising"
   ]
  },
  {
   "cell_type": "code",
   "execution_count": 87,
   "id": "2fb3f9a1",
   "metadata": {},
   "outputs": [
    {
     "data": {
      "image/png": "[encoded data removed]",
      "text/plain": [
       "<Figure size 800x600 with 1 Axes>"
      ]
     },
     "metadata": {},
     "output_type": "display_data"
    }
   ],
   "source": [
    "plt.figure(figsize=(8,6))\n",
    "sns.barplot(x=phone_df['discounted_price'], y=phone_df['stars'])\n",
    "plt.xlabel('Price of the model')\n",
    "plt.ylabel('Star Rating')\n",
    "plt.title('Price vs Star')\n",
    "plt.show()"
   ]
  },
  {
   "cell_type": "markdown",
   "id": "e7cd44e2",
   "metadata": {},
   "source": [
    "We can conclude, Stars rating doesnt depend on Price"
   ]
  },
  {
   "cell_type": "code",
   "execution_count": 89,
   "id": "eea87f88",
   "metadata": {},
   "outputs": [
    {
     "data": {
      "text/plain": [
       "array(['REDMI 10 (Pacific Blue, 64 GB)',\n",
       "       'REDMI 10 (Caribbean Green, 64 GB)',\n",
       "       'REDMI 10 (Midnight Black, 64 GB)',\n",
       "       'Infinix HOT 20 Play (Luna Blue, 64 GB)',\n",
       "       'Infinix HOT 20 Play (Racing Black, 64 GB)',\n",
       "       'Infinix HOT 20 Play (Fantasy Purple, 64 GB)',\n",
       "       'Infinix HOT 20 Play (Aurora Green, 64 GB)',\n",
       "       'SAMSUNG Galaxy F23 5G (Aqua Blue, 128 GB)',\n",
       "       'REDMI 10 (Sunrise Orange, 64 GB)',\n",
       "       'SAMSUNG Galaxy F23 5G (Copper Blush, 128 GB)',\n",
       "       'POCO C50 (Royal Blue, 32 GB)', 'POCO C50 (Country Green, 32 GB)',\n",
       "       'MOTOROLA g52 (Charcoal Grey, 64 GB)',\n",
       "       'MOTOROLA g31 (Baby Blue, 128 GB)',\n",
       "       'MOTOROLA g52 (Metallic White, 128 GB)',\n",
       "       'MOTOROLA g52 (Charcoal Grey, 128 GB)',\n",
       "       'Infinix Hot 12 (7° Purple, 64 GB)',\n",
       "       'Infinix Hot 12 (Exploratory Blue, 64 GB)',\n",
       "       'MOTOROLA g31 (Meteorite Grey, 64 GB)',\n",
       "       'MOTOROLA G32 (Mineral Gray, 64 GB)',\n",
       "       'Infinix Smart 6 HD (Origin Blue, 32 GB)',\n",
       "       'Infinix Smart 6 HD (Aqua Sky, 32 GB)',\n",
       "       'Infinix Smart 6 HD (Force Black, 32 GB)'], dtype=object)"
      ]
     },
     "execution_count": 89,
     "metadata": {},
     "output_type": "execute_result"
    }
   ],
   "source": [
    "phone_df['title'].unique()"
   ]
  },
  {
   "cell_type": "code",
   "execution_count": 95,
   "id": "d7ce0a19",
   "metadata": {},
   "outputs": [
    {
     "data": {
      "image/png": "[encoded data removed]",
      "text/plain": [
       "<Figure size 800x800 with 1 Axes>"
      ]
     },
     "metadata": {},
     "output_type": "display_data"
    }
   ],
   "source": [
    "plt.figure(figsize=(8,8))\n",
    "sns.barplot(x=phone_df['discounted_price'], y=phone_df['reviews'])\n",
    "plt.xlabel('Price')\n",
    "plt.ylabel('Reviews')\n",
    "plt.title('Price vs Reviews')\n",
    "plt.show()\n"
   ]
  },
  {
   "cell_type": "markdown",
   "id": "b8f80a6c",
   "metadata": {},
   "source": [
    "Price and reviews have not much dependency on each other"
   ]
  },
  {
   "cell_type": "code",
   "execution_count": 100,
   "id": "bd90c57a",
   "metadata": {},
   "outputs": [
    {
     "data": {
      "image/png": "[encoded data removed]",
      "text/plain": [
       "<Figure size 640x480 with 1 Axes>"
      ]
     },
     "metadata": {},
     "output_type": "display_data"
    }
   ],
   "source": [
    "sns.scatterplot(x=phone_df['ratings'], y=phone_df['price_before_discount'])\n",
    "plt.xlabel('Ratings')\n",
    "plt.ylabel('Price')\n",
    "plt.show()"
   ]
  },
  {
   "cell_type": "markdown",
   "id": "4019eda9",
   "metadata": {},
   "source": [
    "From Above, we can observe higher prices have higher ratings"
   ]
  },
  {
   "cell_type": "code",
   "execution_count": null,
   "id": "1259e656",
   "metadata": {},
   "outputs": [],
   "source": []
  }
 ],
 "metadata": {
  "kernelspec": {
   "display_name": "Python 3 (ipykernel)",
   "language": "python",
   "name": "python3"
  },
  "language_info": {
   "codemirror_mode": {
    "name": "ipython",
    "version": 3
   },
   "file_extension": ".py",
   "mimetype": "text/x-python",
   "name": "python",
   "nbconvert_exporter": "python",
   "pygments_lexer": "ipython3",
   "version": "3.9.13"
  }
 },
 "nbformat": 4,
 "nbformat_minor": 5
}
