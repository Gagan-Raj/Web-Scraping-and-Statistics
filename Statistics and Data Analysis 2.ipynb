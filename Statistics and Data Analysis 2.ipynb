{
 "cells": [
  {
   "cell_type": "markdown",
   "id": "4a21b63e",
   "metadata": {},
   "source": [
    "# Project Outline :\n",
    "\n",
    "- We are going to scrape IMDb Website for Most Popular TV Shows and Most popular Movies\n",
    "- url 1 = 'https://www.imdb.com/chart/tvmeter/?ref_=nv_mp_mptv'\n",
    "- url 2 = 'https://www.imdb.com/chart/moviemeter/?ref_=nv_mp_mpm'\n",
    "- We will make 2 data frames and make 2 different Analysis\n",
    "- we will collect title, year of release, imdb rating\n"
   ]
  },
  {
   "cell_type": "code",
   "execution_count": 1,
   "id": "fd74559c",
   "metadata": {},
   "outputs": [],
   "source": [
    "#import required libraries\n",
    "import pandas as pd\n",
    "import numpy as np\n",
    "from bs4 import BeautifulSoup\n",
    "import requests\n",
    "import seaborn as sns\n",
    "from matplotlib import pyplot as plt"
   ]
  },
  {
   "cell_type": "code",
   "execution_count": 2,
   "id": "2986a251",
   "metadata": {},
   "outputs": [],
   "source": [
    "movie_url = 'https://www.imdb.com/chart/moviemeter/?ref_=nv_mp_mpm'\n",
    "tv_url = 'https://www.imdb.com/chart/tvmeter/?ref_=nv_mp_mptv'\n",
    "\n",
    "movie = requests.get(movie_url)\n",
    "tv = requests.get(tv_url)"
   ]
  },
  {
   "cell_type": "code",
   "execution_count": 3,
   "id": "bf9bf7e5",
   "metadata": {},
   "outputs": [
    {
     "data": {
      "text/plain": [
       "200"
      ]
     },
     "execution_count": 3,
     "metadata": {},
     "output_type": "execute_result"
    }
   ],
   "source": [
    "movie.status_code"
   ]
  },
  {
   "cell_type": "code",
   "execution_count": 4,
   "id": "39372b26",
   "metadata": {},
   "outputs": [
    {
     "data": {
      "text/plain": [
       "200"
      ]
     },
     "execution_count": 4,
     "metadata": {},
     "output_type": "execute_result"
    }
   ],
   "source": [
    "tv.status_code"
   ]
  },
  {
   "cell_type": "code",
   "execution_count": 5,
   "id": "464160da",
   "metadata": {},
   "outputs": [],
   "source": [
    "movie_soup = BeautifulSoup(movie.text, 'html.parser')\n",
    "tv_soup = BeautifulSoup(tv.text, 'html.parser')"
   ]
  },
  {
   "cell_type": "markdown",
   "id": "e9ed53d5",
   "metadata": {},
   "source": [
    "### for Movie"
   ]
  },
  {
   "cell_type": "code",
   "execution_count": 6,
   "id": "896c6a25",
   "metadata": {},
   "outputs": [],
   "source": [
    "# for movie\n",
    "movie_main = movie_soup.find('tbody', class_='lister-list').find_all('tr')"
   ]
  },
  {
   "cell_type": "code",
   "execution_count": 15,
   "id": "b49cc866",
   "metadata": {},
   "outputs": [],
   "source": [
    "movie1 = movie_main[0]"
   ]
  },
  {
   "cell_type": "code",
   "execution_count": 16,
   "id": "8251b4b7",
   "metadata": {},
   "outputs": [
    {
     "name": "stdout",
     "output_type": "stream",
     "text": [
      "Cocaine Bear 2023 6.4\n"
     ]
    }
   ],
   "source": [
    "name = movie1.find('td', class_='titleColumn').a.text\n",
    "year = movie1.find('td', class_='titleColumn').span.text.strip('()')\n",
    "rating = movie1.find('td', class_='ratingColumn imdbRating').strong.text\n",
    "    \n",
    "print(name,year,rating)"
   ]
  },
  {
   "cell_type": "code",
   "execution_count": 35,
   "id": "43f37a4c",
   "metadata": {},
   "outputs": [],
   "source": [
    "movie_data = []\n",
    "for movie in movie_main:\n",
    "    name = movie.find('td', class_='titleColumn').a.text\n",
    "    year = movie.find('td', class_='titleColumn').span.text.strip('()')\n",
    "    # since we have null values in data, we have to do in this way to avoid errors\n",
    "    rating_element = movie.find('td', class_='ratingColumn imdbRating')\n",
    "    if rating_element is not None:\n",
    "        rating_strong = rating_element.find('strong')\n",
    "        if rating_strong is not None:\n",
    "            rating = rating_strong.text\n",
    "        else:\n",
    "            rating = 'N/A'\n",
    "    else:\n",
    "        rating = 'N/A'\n",
    "        \n",
    "    movie_dict = {\n",
    "    'movie_name':name,\n",
    "    'year_of_release':year,\n",
    "    'rating':rating\n",
    "    }\n",
    "    movie_data.append(movie_dict)"
   ]
  },
  {
   "cell_type": "code",
   "execution_count": 76,
   "id": "6f7d8dd2",
   "metadata": {},
   "outputs": [],
   "source": [
    "movie_df = pd.DataFrame(movie_data)"
   ]
  },
  {
   "cell_type": "code",
   "execution_count": 77,
   "id": "86a71c02",
   "metadata": {},
   "outputs": [
    {
     "data": {
      "text/html": [
       "<div>\n",
       "<style scoped>\n",
       "    .dataframe tbody tr th:only-of-type {\n",
       "        vertical-align: middle;\n",
       "    }\n",
       "\n",
       "    .dataframe tbody tr th {\n",
       "        vertical-align: top;\n",
       "    }\n",
       "\n",
       "    .dataframe thead th {\n",
       "        text-align: right;\n",
       "    }\n",
       "</style>\n",
       "<table border=\"1\" class=\"dataframe\">\n",
       "  <thead>\n",
       "    <tr style=\"text-align: right;\">\n",
       "      <th></th>\n",
       "      <th>movie_name</th>\n",
       "      <th>year_of_release</th>\n",
       "      <th>rating</th>\n",
       "    </tr>\n",
       "  </thead>\n",
       "  <tbody>\n",
       "    <tr>\n",
       "      <th>0</th>\n",
       "      <td>Cocaine Bear</td>\n",
       "      <td>2023</td>\n",
       "      <td>6.4</td>\n",
       "    </tr>\n",
       "    <tr>\n",
       "      <th>1</th>\n",
       "      <td>We Have a Ghost</td>\n",
       "      <td>2023</td>\n",
       "      <td>6.1</td>\n",
       "    </tr>\n",
       "    <tr>\n",
       "      <th>2</th>\n",
       "      <td>Ant-Man and the Wasp: Quantumania</td>\n",
       "      <td>2023</td>\n",
       "      <td>6.5</td>\n",
       "    </tr>\n",
       "    <tr>\n",
       "      <th>3</th>\n",
       "      <td>The Whale</td>\n",
       "      <td>2022</td>\n",
       "      <td>7.8</td>\n",
       "    </tr>\n",
       "    <tr>\n",
       "      <th>4</th>\n",
       "      <td>Creed III</td>\n",
       "      <td>2023</td>\n",
       "      <td>7.3</td>\n",
       "    </tr>\n",
       "  </tbody>\n",
       "</table>\n",
       "</div>"
      ],
      "text/plain": [
       "                          movie_name year_of_release rating\n",
       "0                       Cocaine Bear            2023    6.4\n",
       "1                    We Have a Ghost            2023    6.1\n",
       "2  Ant-Man and the Wasp: Quantumania            2023    6.5\n",
       "3                          The Whale            2022    7.8\n",
       "4                          Creed III            2023    7.3"
      ]
     },
     "execution_count": 77,
     "metadata": {},
     "output_type": "execute_result"
    }
   ],
   "source": [
    "movie_df.head()"
   ]
  },
  {
   "cell_type": "markdown",
   "id": "9d3c1d3e",
   "metadata": {},
   "source": [
    "# for TV"
   ]
  },
  {
   "cell_type": "code",
   "execution_count": 38,
   "id": "317687a2",
   "metadata": {},
   "outputs": [],
   "source": [
    "tv_main = tv_soup.find('tbody', class_='lister-list').find_all('tr')"
   ]
  },
  {
   "cell_type": "code",
   "execution_count": 39,
   "id": "61ed76a6",
   "metadata": {},
   "outputs": [],
   "source": [
    "tv_data = []\n",
    "for tv in tv_main:\n",
    "    name = tv.find('td', class_='titleColumn').a.text\n",
    "    year = tv.find('td', class_='titleColumn').span.text.strip('()')\n",
    "    # since we have null values in data, we have to do in this way to avoid errors\n",
    "    rating_element = tv.find('td', class_='ratingColumn imdbRating')\n",
    "    if rating_element is not None:\n",
    "        rating_strong = rating_element.find('strong')\n",
    "        if rating_strong is not None:\n",
    "            rating = rating_strong.text\n",
    "        else:\n",
    "            rating = 'N/A'\n",
    "    else:\n",
    "        rating = 'N/A'\n",
    "        \n",
    "    tv_dict = {\n",
    "    'tv_name':name,\n",
    "    'year_of_release':year,\n",
    "    'rating':rating\n",
    "    }\n",
    "    tv_data.append(tv_dict)"
   ]
  },
  {
   "cell_type": "code",
   "execution_count": 41,
   "id": "eca51d52",
   "metadata": {},
   "outputs": [],
   "source": [
    "tv_df = pd.DataFrame(tv_data)"
   ]
  },
  {
   "cell_type": "code",
   "execution_count": 42,
   "id": "db9decc9",
   "metadata": {},
   "outputs": [
    {
     "data": {
      "text/html": [
       "<div>\n",
       "<style scoped>\n",
       "    .dataframe tbody tr th:only-of-type {\n",
       "        vertical-align: middle;\n",
       "    }\n",
       "\n",
       "    .dataframe tbody tr th {\n",
       "        vertical-align: top;\n",
       "    }\n",
       "\n",
       "    .dataframe thead th {\n",
       "        text-align: right;\n",
       "    }\n",
       "</style>\n",
       "<table border=\"1\" class=\"dataframe\">\n",
       "  <thead>\n",
       "    <tr style=\"text-align: right;\">\n",
       "      <th></th>\n",
       "      <th>tv_name</th>\n",
       "      <th>year_of_release</th>\n",
       "      <th>rating</th>\n",
       "    </tr>\n",
       "  </thead>\n",
       "  <tbody>\n",
       "    <tr>\n",
       "      <th>0</th>\n",
       "      <td>The Last of Us</td>\n",
       "      <td>2023</td>\n",
       "      <td>9.1</td>\n",
       "    </tr>\n",
       "    <tr>\n",
       "      <th>1</th>\n",
       "      <td>The Mandalorian</td>\n",
       "      <td>2019</td>\n",
       "      <td>8.7</td>\n",
       "    </tr>\n",
       "    <tr>\n",
       "      <th>2</th>\n",
       "      <td>Outer Banks</td>\n",
       "      <td>2020</td>\n",
       "      <td>7.5</td>\n",
       "    </tr>\n",
       "    <tr>\n",
       "      <th>3</th>\n",
       "      <td>1923</td>\n",
       "      <td>2022</td>\n",
       "      <td>8.5</td>\n",
       "    </tr>\n",
       "    <tr>\n",
       "      <th>4</th>\n",
       "      <td>Poker Face</td>\n",
       "      <td>2023</td>\n",
       "      <td>8.0</td>\n",
       "    </tr>\n",
       "  </tbody>\n",
       "</table>\n",
       "</div>"
      ],
      "text/plain": [
       "           tv_name year_of_release rating\n",
       "0   The Last of Us            2023    9.1\n",
       "1  The Mandalorian            2019    8.7\n",
       "2      Outer Banks            2020    7.5\n",
       "3             1923            2022    8.5\n",
       "4       Poker Face            2023    8.0"
      ]
     },
     "execution_count": 42,
     "metadata": {},
     "output_type": "execute_result"
    }
   ],
   "source": [
    "tv_df.head()"
   ]
  },
  {
   "cell_type": "markdown",
   "id": "5a7a3548",
   "metadata": {},
   "source": [
    "# Data Cleaning"
   ]
  },
  {
   "cell_type": "code",
   "execution_count": 78,
   "id": "1f9c22a2",
   "metadata": {},
   "outputs": [
    {
     "name": "stdout",
     "output_type": "stream",
     "text": [
      "<class 'pandas.core.frame.DataFrame'>\n",
      "RangeIndex: 100 entries, 0 to 99\n",
      "Data columns (total 3 columns):\n",
      " #   Column           Non-Null Count  Dtype \n",
      "---  ------           --------------  ----- \n",
      " 0   movie_name       100 non-null    object\n",
      " 1   year_of_release  100 non-null    object\n",
      " 2   rating           100 non-null    object\n",
      "dtypes: object(3)\n",
      "memory usage: 2.5+ KB\n"
     ]
    }
   ],
   "source": [
    "movie_df.info()"
   ]
  },
  {
   "cell_type": "code",
   "execution_count": 79,
   "id": "a16b04c6",
   "metadata": {},
   "outputs": [
    {
     "name": "stdout",
     "output_type": "stream",
     "text": [
      "<class 'pandas.core.frame.DataFrame'>\n",
      "RangeIndex: 100 entries, 0 to 99\n",
      "Data columns (total 3 columns):\n",
      " #   Column           Non-Null Count  Dtype \n",
      "---  ------           --------------  ----- \n",
      " 0   tv_name          100 non-null    object\n",
      " 1   year_of_release  100 non-null    object\n",
      " 2   rating           100 non-null    object\n",
      "dtypes: object(3)\n",
      "memory usage: 2.5+ KB\n"
     ]
    }
   ],
   "source": [
    "tv_df.info()"
   ]
  },
  {
   "cell_type": "markdown",
   "id": "a0e17c9f",
   "metadata": {},
   "source": [
    "### we have rating and year column as object we need them in float and int"
   ]
  },
  {
   "cell_type": "code",
   "execution_count": 80,
   "id": "15ecd2a1",
   "metadata": {},
   "outputs": [],
   "source": [
    "movie_df['rating'] = movie_df['rating'].str.replace('N/A','')"
   ]
  },
  {
   "cell_type": "code",
   "execution_count": 81,
   "id": "5969a2ca",
   "metadata": {
    "scrolled": true
   },
   "outputs": [
    {
     "data": {
      "text/plain": [
       "0     False\n",
       "1     False\n",
       "2     False\n",
       "3     False\n",
       "4     False\n",
       "      ...  \n",
       "95    False\n",
       "96    False\n",
       "97    False\n",
       "98    False\n",
       "99    False\n",
       "Name: rating, Length: 100, dtype: bool"
      ]
     },
     "execution_count": 81,
     "metadata": {},
     "output_type": "execute_result"
    }
   ],
   "source": [
    "movie_df['rating'].dropna(inplace=True)\n",
    "movie_df['rating'].isnull()"
   ]
  },
  {
   "cell_type": "code",
   "execution_count": 82,
   "id": "05b64eb4",
   "metadata": {},
   "outputs": [
    {
     "name": "stdout",
     "output_type": "stream",
     "text": [
      "<class 'pandas.core.frame.DataFrame'>\n",
      "RangeIndex: 100 entries, 0 to 99\n",
      "Data columns (total 3 columns):\n",
      " #   Column           Non-Null Count  Dtype \n",
      "---  ------           --------------  ----- \n",
      " 0   movie_name       100 non-null    object\n",
      " 1   year_of_release  100 non-null    object\n",
      " 2   rating           100 non-null    object\n",
      "dtypes: object(3)\n",
      "memory usage: 2.5+ KB\n"
     ]
    }
   ],
   "source": [
    "movie_df.info()"
   ]
  },
  {
   "cell_type": "code",
   "execution_count": 84,
   "id": "ad537298",
   "metadata": {},
   "outputs": [],
   "source": [
    "# Replace empty strings with NaN\n",
    "movie_df['rating'] = movie_df['rating'].replace('', np.nan)"
   ]
  },
  {
   "cell_type": "code",
   "execution_count": 85,
   "id": "a2c80550",
   "metadata": {},
   "outputs": [],
   "source": [
    "movie_df['rating'].dropna(inplace=True)"
   ]
  },
  {
   "cell_type": "code",
   "execution_count": 86,
   "id": "8cb3a45f",
   "metadata": {},
   "outputs": [],
   "source": [
    "movie_df['rating'] = movie_df['rating'].astype(float)\n",
    "movie_df['year_of_release'] = movie_df['year_of_release'].astype(int)"
   ]
  },
  {
   "cell_type": "code",
   "execution_count": 87,
   "id": "ed85a1ec",
   "metadata": {},
   "outputs": [
    {
     "name": "stdout",
     "output_type": "stream",
     "text": [
      "<class 'pandas.core.frame.DataFrame'>\n",
      "RangeIndex: 100 entries, 0 to 99\n",
      "Data columns (total 3 columns):\n",
      " #   Column           Non-Null Count  Dtype  \n",
      "---  ------           --------------  -----  \n",
      " 0   movie_name       100 non-null    object \n",
      " 1   year_of_release  100 non-null    int64  \n",
      " 2   rating           91 non-null     float64\n",
      "dtypes: float64(1), int64(1), object(1)\n",
      "memory usage: 2.5+ KB\n"
     ]
    }
   ],
   "source": [
    "movie_df.info()"
   ]
  },
  {
   "cell_type": "code",
   "execution_count": 88,
   "id": "dac4247a",
   "metadata": {},
   "outputs": [
    {
     "name": "stdout",
     "output_type": "stream",
     "text": [
      "<class 'pandas.core.frame.DataFrame'>\n",
      "RangeIndex: 100 entries, 0 to 99\n",
      "Data columns (total 3 columns):\n",
      " #   Column           Non-Null Count  Dtype \n",
      "---  ------           --------------  ----- \n",
      " 0   tv_name          100 non-null    object\n",
      " 1   year_of_release  100 non-null    object\n",
      " 2   rating           100 non-null    object\n",
      "dtypes: object(3)\n",
      "memory usage: 2.5+ KB\n"
     ]
    }
   ],
   "source": [
    "tv_df.info()"
   ]
  },
  {
   "cell_type": "code",
   "execution_count": 90,
   "id": "d83c1b9e",
   "metadata": {},
   "outputs": [],
   "source": [
    "tv_df['rating'] = tv_df['rating'].str.replace('N/A', '')"
   ]
  },
  {
   "cell_type": "code",
   "execution_count": 91,
   "id": "92a3e466",
   "metadata": {},
   "outputs": [],
   "source": [
    "# Replace empty strings with NaN\n",
    "tv_df['rating'] = tv_df['rating'].replace('', np.nan)"
   ]
  },
  {
   "cell_type": "code",
   "execution_count": 92,
   "id": "06c2d115",
   "metadata": {},
   "outputs": [],
   "source": [
    "tv_df.dropna(inplace=True)"
   ]
  },
  {
   "cell_type": "code",
   "execution_count": 93,
   "id": "4b2f9156",
   "metadata": {},
   "outputs": [],
   "source": [
    "tv_df['rating'] = tv_df['rating'].astype(float)\n",
    "tv_df['year_of_release'] = tv_df['year_of_release'].astype(int)"
   ]
  },
  {
   "cell_type": "code",
   "execution_count": 94,
   "id": "2bf529e9",
   "metadata": {},
   "outputs": [
    {
     "name": "stdout",
     "output_type": "stream",
     "text": [
      "<class 'pandas.core.frame.DataFrame'>\n",
      "Int64Index: 99 entries, 0 to 99\n",
      "Data columns (total 3 columns):\n",
      " #   Column           Non-Null Count  Dtype  \n",
      "---  ------           --------------  -----  \n",
      " 0   tv_name          99 non-null     object \n",
      " 1   year_of_release  99 non-null     int64  \n",
      " 2   rating           99 non-null     float64\n",
      "dtypes: float64(1), int64(1), object(1)\n",
      "memory usage: 3.1+ KB\n"
     ]
    }
   ],
   "source": [
    "tv_df.info()"
   ]
  },
  {
   "cell_type": "markdown",
   "id": "e2bf20e8",
   "metadata": {},
   "source": [
    "### Data Analysis and Visualisation"
   ]
  },
  {
   "cell_type": "code",
   "execution_count": 98,
   "id": "4b6d416d",
   "metadata": {},
   "outputs": [
    {
     "data": {
      "image/png": "[encoded data removed]",
      "text/plain": [
       "<Figure size 640x480 with 1 Axes>"
      ]
     },
     "metadata": {},
     "output_type": "display_data"
    }
   ],
   "source": [
    "sns.barplot(x=movie_df['year_of_release'], y=movie_df['rating'])\n",
    "plt.xlabel('Year of Release')\n",
    "plt.ylabel('Ratings for Movie')\n",
    "plt.title('Release Year vs Ratings')\n",
    "plt.xticks(rotation=270)\n",
    "plt.show()"
   ]
  },
  {
   "cell_type": "markdown",
   "id": "03274081",
   "metadata": {},
   "source": [
    "We can observe that 1972 released movies have higher ratings than movies released in recent years"
   ]
  },
  {
   "cell_type": "code",
   "execution_count": 99,
   "id": "e8b718dc",
   "metadata": {},
   "outputs": [
    {
     "data": {
      "image/png": "[encoded data removed]",
      "text/plain": [
       "<Figure size 640x480 with 1 Axes>"
      ]
     },
     "metadata": {},
     "output_type": "display_data"
    }
   ],
   "source": [
    "sns.barplot(x=tv_df['year_of_release'], y=tv_df['rating'])\n",
    "plt.xlabel('Year of Release')\n",
    "plt.ylabel('Ratings for TV Show')\n",
    "plt.title('Release Year vs Ratings')\n",
    "plt.xticks(rotation=270)\n",
    "plt.show()"
   ]
  },
  {
   "cell_type": "markdown",
   "id": "3c13c9d8",
   "metadata": {},
   "source": [
    "Unlike Movies, TV Shows which are released post 2000 have higher ratings"
   ]
  },
  {
   "cell_type": "code",
   "execution_count": 103,
   "id": "c3ab3364",
   "metadata": {},
   "outputs": [],
   "source": [
    "movie_df.dropna(inplace=True)"
   ]
  },
  {
   "cell_type": "code",
   "execution_count": 104,
   "id": "5e12bb0c",
   "metadata": {},
   "outputs": [
    {
     "data": {
      "text/html": [
       "<div>\n",
       "<style scoped>\n",
       "    .dataframe tbody tr th:only-of-type {\n",
       "        vertical-align: middle;\n",
       "    }\n",
       "\n",
       "    .dataframe tbody tr th {\n",
       "        vertical-align: top;\n",
       "    }\n",
       "\n",
       "    .dataframe thead th {\n",
       "        text-align: right;\n",
       "    }\n",
       "</style>\n",
       "<table border=\"1\" class=\"dataframe\">\n",
       "  <thead>\n",
       "    <tr style=\"text-align: right;\">\n",
       "      <th></th>\n",
       "      <th>movie_name</th>\n",
       "      <th>year_of_release</th>\n",
       "      <th>rating</th>\n",
       "    </tr>\n",
       "  </thead>\n",
       "  <tbody>\n",
       "    <tr>\n",
       "      <th>68</th>\n",
       "      <td>Interstellar</td>\n",
       "      <td>2014</td>\n",
       "      <td>8.6</td>\n",
       "    </tr>\n",
       "    <tr>\n",
       "      <th>87</th>\n",
       "      <td>The Lord of the Rings: The Fellowship of the Ring</td>\n",
       "      <td>2001</td>\n",
       "      <td>8.8</td>\n",
       "    </tr>\n",
       "    <tr>\n",
       "      <th>86</th>\n",
       "      <td>Pulp Fiction</td>\n",
       "      <td>1994</td>\n",
       "      <td>8.9</td>\n",
       "    </tr>\n",
       "    <tr>\n",
       "      <th>46</th>\n",
       "      <td>The Godfather</td>\n",
       "      <td>1972</td>\n",
       "      <td>9.2</td>\n",
       "    </tr>\n",
       "    <tr>\n",
       "      <th>57</th>\n",
       "      <td>The Shawshank Redemption</td>\n",
       "      <td>1994</td>\n",
       "      <td>9.3</td>\n",
       "    </tr>\n",
       "  </tbody>\n",
       "</table>\n",
       "</div>"
      ],
      "text/plain": [
       "                                           movie_name  year_of_release  rating\n",
       "68                                       Interstellar             2014     8.6\n",
       "87  The Lord of the Rings: The Fellowship of the Ring             2001     8.8\n",
       "86                                       Pulp Fiction             1994     8.9\n",
       "46                                      The Godfather             1972     9.2\n",
       "57                           The Shawshank Redemption             1994     9.3"
      ]
     },
     "execution_count": 104,
     "metadata": {},
     "output_type": "execute_result"
    }
   ],
   "source": [
    "# sort DataFrame by rating column in ascending order\n",
    "movie_df_sorted = movie_df.sort_values('rating')\n",
    "movie_df_sorted.tail()"
   ]
  },
  {
   "cell_type": "code",
   "execution_count": 116,
   "id": "b7f4f15a",
   "metadata": {},
   "outputs": [
    {
     "data": {
      "text/plain": [
       "<Figure size 600x600 with 0 Axes>"
      ]
     },
     "metadata": {},
     "output_type": "display_data"
    },
    {
     "data": {
      "image/png": "[encoded data removed]",
      "text/plain": [
       "<Figure size 640x480 with 1 Axes>"
      ]
     },
     "metadata": {},
     "output_type": "display_data"
    }
   ],
   "source": [
    "plt.figure(figsize=(6,6))\n",
    "movie_df_sorted.tail(5).plot.bar(x='movie_name', y='rating')\n",
    "plt.xlabel('Movie Name')\n",
    "plt.ylabel('Rating')\n",
    "plt.title('Movie Name vs Top 5 Rating')\n",
    "plt.xticks(rotation=90)\n",
    "plt.show()"
   ]
  },
  {
   "cell_type": "markdown",
   "id": "78d0d00a",
   "metadata": {},
   "source": [
    "The Shawshank Redemption and God Father are the movies which are having high rating"
   ]
  },
  {
   "cell_type": "code",
   "execution_count": 117,
   "id": "847f3e13",
   "metadata": {},
   "outputs": [
    {
     "data": {
      "text/html": [
       "<div>\n",
       "<style scoped>\n",
       "    .dataframe tbody tr th:only-of-type {\n",
       "        vertical-align: middle;\n",
       "    }\n",
       "\n",
       "    .dataframe tbody tr th {\n",
       "        vertical-align: top;\n",
       "    }\n",
       "\n",
       "    .dataframe thead th {\n",
       "        text-align: right;\n",
       "    }\n",
       "</style>\n",
       "<table border=\"1\" class=\"dataframe\">\n",
       "  <thead>\n",
       "    <tr style=\"text-align: right;\">\n",
       "      <th></th>\n",
       "      <th>tv_name</th>\n",
       "      <th>year_of_release</th>\n",
       "      <th>rating</th>\n",
       "    </tr>\n",
       "  </thead>\n",
       "  <tbody>\n",
       "    <tr>\n",
       "      <th>43</th>\n",
       "      <td>The Sopranos</td>\n",
       "      <td>1999</td>\n",
       "      <td>9.2</td>\n",
       "    </tr>\n",
       "    <tr>\n",
       "      <th>14</th>\n",
       "      <td>Game of Thrones</td>\n",
       "      <td>2011</td>\n",
       "      <td>9.2</td>\n",
       "    </tr>\n",
       "    <tr>\n",
       "      <th>78</th>\n",
       "      <td>The Wire</td>\n",
       "      <td>2002</td>\n",
       "      <td>9.3</td>\n",
       "    </tr>\n",
       "    <tr>\n",
       "      <th>87</th>\n",
       "      <td>The Chosen</td>\n",
       "      <td>2017</td>\n",
       "      <td>9.3</td>\n",
       "    </tr>\n",
       "    <tr>\n",
       "      <th>19</th>\n",
       "      <td>Breaking Bad</td>\n",
       "      <td>2008</td>\n",
       "      <td>9.5</td>\n",
       "    </tr>\n",
       "  </tbody>\n",
       "</table>\n",
       "</div>"
      ],
      "text/plain": [
       "            tv_name  year_of_release  rating\n",
       "43     The Sopranos             1999     9.2\n",
       "14  Game of Thrones             2011     9.2\n",
       "78         The Wire             2002     9.3\n",
       "87       The Chosen             2017     9.3\n",
       "19     Breaking Bad             2008     9.5"
      ]
     },
     "execution_count": 117,
     "metadata": {},
     "output_type": "execute_result"
    }
   ],
   "source": [
    "# sort DataFrame by rating column in ascending order\n",
    "tv_df_sorted = tv_df.sort_values('rating')\n",
    "tv_df_sorted.tail()"
   ]
  },
  {
   "cell_type": "code",
   "execution_count": 118,
   "id": "5a59b2af",
   "metadata": {},
   "outputs": [
    {
     "data": {
      "text/plain": [
       "<Figure size 600x600 with 0 Axes>"
      ]
     },
     "metadata": {},
     "output_type": "display_data"
    },
    {
     "data": {
      "image/png": "[encoded data removed]",
      "text/plain": [
       "<Figure size 640x480 with 1 Axes>"
      ]
     },
     "metadata": {},
     "output_type": "display_data"
    }
   ],
   "source": [
    "plt.figure(figsize=(6,6))\n",
    "tv_df_sorted.tail(5).plot.bar(x='tv_name', y='rating')\n",
    "plt.xlabel('TV Show Name')\n",
    "plt.ylabel('Rating')\n",
    "plt.title('TV Show Name vs Top 5 Rating')\n",
    "plt.xticks(rotation=90)\n",
    "plt.show()"
   ]
  },
  {
   "cell_type": "markdown",
   "id": "879c4fb7",
   "metadata": {},
   "source": [
    "Breaking Bad and The Chosen are the top 2 films which have higher rating"
   ]
  },
  {
   "cell_type": "markdown",
   "id": "5f1dc683",
   "metadata": {},
   "source": [
    "- Conclusion :- \n",
    "We can conclude that the Movies and TV Shows are highely rated. Breaking Bad and The Shawshank Redemption are top rated Tv Show and Movies in the IMDb List."
   ]
  },
  {
   "cell_type": "code",
   "execution_count": null,
   "id": "3a717d58",
   "metadata": {},
   "outputs": [],
   "source": []
  }
 ],
 "metadata": {
  "kernelspec": {
   "display_name": "Python 3 (ipykernel)",
   "language": "python",
   "name": "python3"
  },
  "language_info": {
   "codemirror_mode": {
    "name": "ipython",
    "version": 3
   },
   "file_extension": ".py",
   "mimetype": "text/x-python",
   "name": "python",
   "nbconvert_exporter": "python",
   "pygments_lexer": "ipython3",
   "version": "3.9.13"
  }
 },
 "nbformat": 4,
 "nbformat_minor": 5
}
